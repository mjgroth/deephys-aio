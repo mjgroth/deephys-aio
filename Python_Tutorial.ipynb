{
  "nbformat": 4,
  "nbformat_minor": 0,
  "metadata": {
    "colab": {
      "provenance": [],
      "collapsed_sections": [
        "Ky2zpklwpN1W"
      ],
      "include_colab_link": true
    },
    "kernelspec": {
      "name": "python3",
      "display_name": "Python 3"
    },
    "language_info": {
      "name": "python"
    },
    "accelerator": "GPU",
    "widgets": {
      "application/vnd.jupyter.widget-state+json": {
        "a5790a6c304d4e6abc520da87166e300": {
          "model_module": "@jupyter-widgets/controls",
          "model_name": "HBoxModel",
          "model_module_version": "1.5.0",
          "state": {
            "_dom_classes": [],
            "_model_module": "@jupyter-widgets/controls",
            "_model_module_version": "1.5.0",
            "_model_name": "HBoxModel",
            "_view_count": null,
            "_view_module": "@jupyter-widgets/controls",
            "_view_module_version": "1.5.0",
            "_view_name": "HBoxView",
            "box_style": "",
            "children": [
              "IPY_MODEL_945e131693ca4ca49cb08cb6704829af",
              "IPY_MODEL_56ac0e0f050e428b800c95d6878bb33c",
              "IPY_MODEL_4f9d5aed868f433c87116d7601a39ddd"
            ],
            "layout": "IPY_MODEL_3eb0700b85f74c66948d9c9cb81ba836"
          }
        },
        "945e131693ca4ca49cb08cb6704829af": {
          "model_module": "@jupyter-widgets/controls",
          "model_name": "HTMLModel",
          "model_module_version": "1.5.0",
          "state": {
            "_dom_classes": [],
            "_model_module": "@jupyter-widgets/controls",
            "_model_module_version": "1.5.0",
            "_model_name": "HTMLModel",
            "_view_count": null,
            "_view_module": "@jupyter-widgets/controls",
            "_view_module_version": "1.5.0",
            "_view_name": "HTMLView",
            "description": "",
            "description_tooltip": null,
            "layout": "IPY_MODEL_7d05fdbbde8348e888cfefb3eb53e02b",
            "placeholder": "​",
            "style": "IPY_MODEL_bd8479f48680457cb7463dd4d71ef775",
            "value": "100%"
          }
        },
        "56ac0e0f050e428b800c95d6878bb33c": {
          "model_module": "@jupyter-widgets/controls",
          "model_name": "FloatProgressModel",
          "model_module_version": "1.5.0",
          "state": {
            "_dom_classes": [],
            "_model_module": "@jupyter-widgets/controls",
            "_model_module_version": "1.5.0",
            "_model_name": "FloatProgressModel",
            "_view_count": null,
            "_view_module": "@jupyter-widgets/controls",
            "_view_module_version": "1.5.0",
            "_view_name": "ProgressView",
            "bar_style": "success",
            "description": "",
            "description_tooltip": null,
            "layout": "IPY_MODEL_c543f995c3e6470695d77d477287ca98",
            "max": 170498071,
            "min": 0,
            "orientation": "horizontal",
            "style": "IPY_MODEL_1337038b275141e387de9df930f31e2a",
            "value": 170498071
          }
        },
        "4f9d5aed868f433c87116d7601a39ddd": {
          "model_module": "@jupyter-widgets/controls",
          "model_name": "HTMLModel",
          "model_module_version": "1.5.0",
          "state": {
            "_dom_classes": [],
            "_model_module": "@jupyter-widgets/controls",
            "_model_module_version": "1.5.0",
            "_model_name": "HTMLModel",
            "_view_count": null,
            "_view_module": "@jupyter-widgets/controls",
            "_view_module_version": "1.5.0",
            "_view_name": "HTMLView",
            "description": "",
            "description_tooltip": null,
            "layout": "IPY_MODEL_79ff019f59984a108bb1b1bba59ce39c",
            "placeholder": "​",
            "style": "IPY_MODEL_6c29caac5eee42818943ee7e8c2f3c5c",
            "value": " 170498071/170498071 [00:05&lt;00:00, 32109385.48it/s]"
          }
        },
        "3eb0700b85f74c66948d9c9cb81ba836": {
          "model_module": "@jupyter-widgets/base",
          "model_name": "LayoutModel",
          "model_module_version": "1.2.0",
          "state": {
            "_model_module": "@jupyter-widgets/base",
            "_model_module_version": "1.2.0",
            "_model_name": "LayoutModel",
            "_view_count": null,
            "_view_module": "@jupyter-widgets/base",
            "_view_module_version": "1.2.0",
            "_view_name": "LayoutView",
            "align_content": null,
            "align_items": null,
            "align_self": null,
            "border": null,
            "bottom": null,
            "display": null,
            "flex": null,
            "flex_flow": null,
            "grid_area": null,
            "grid_auto_columns": null,
            "grid_auto_flow": null,
            "grid_auto_rows": null,
            "grid_column": null,
            "grid_gap": null,
            "grid_row": null,
            "grid_template_areas": null,
            "grid_template_columns": null,
            "grid_template_rows": null,
            "height": null,
            "justify_content": null,
            "justify_items": null,
            "left": null,
            "margin": null,
            "max_height": null,
            "max_width": null,
            "min_height": null,
            "min_width": null,
            "object_fit": null,
            "object_position": null,
            "order": null,
            "overflow": null,
            "overflow_x": null,
            "overflow_y": null,
            "padding": null,
            "right": null,
            "top": null,
            "visibility": null,
            "width": null
          }
        },
        "7d05fdbbde8348e888cfefb3eb53e02b": {
          "model_module": "@jupyter-widgets/base",
          "model_name": "LayoutModel",
          "model_module_version": "1.2.0",
          "state": {
            "_model_module": "@jupyter-widgets/base",
            "_model_module_version": "1.2.0",
            "_model_name": "LayoutModel",
            "_view_count": null,
            "_view_module": "@jupyter-widgets/base",
            "_view_module_version": "1.2.0",
            "_view_name": "LayoutView",
            "align_content": null,
            "align_items": null,
            "align_self": null,
            "border": null,
            "bottom": null,
            "display": null,
            "flex": null,
            "flex_flow": null,
            "grid_area": null,
            "grid_auto_columns": null,
            "grid_auto_flow": null,
            "grid_auto_rows": null,
            "grid_column": null,
            "grid_gap": null,
            "grid_row": null,
            "grid_template_areas": null,
            "grid_template_columns": null,
            "grid_template_rows": null,
            "height": null,
            "justify_content": null,
            "justify_items": null,
            "left": null,
            "margin": null,
            "max_height": null,
            "max_width": null,
            "min_height": null,
            "min_width": null,
            "object_fit": null,
            "object_position": null,
            "order": null,
            "overflow": null,
            "overflow_x": null,
            "overflow_y": null,
            "padding": null,
            "right": null,
            "top": null,
            "visibility": null,
            "width": null
          }
        },
        "bd8479f48680457cb7463dd4d71ef775": {
          "model_module": "@jupyter-widgets/controls",
          "model_name": "DescriptionStyleModel",
          "model_module_version": "1.5.0",
          "state": {
            "_model_module": "@jupyter-widgets/controls",
            "_model_module_version": "1.5.0",
            "_model_name": "DescriptionStyleModel",
            "_view_count": null,
            "_view_module": "@jupyter-widgets/base",
            "_view_module_version": "1.2.0",
            "_view_name": "StyleView",
            "description_width": ""
          }
        },
        "c543f995c3e6470695d77d477287ca98": {
          "model_module": "@jupyter-widgets/base",
          "model_name": "LayoutModel",
          "model_module_version": "1.2.0",
          "state": {
            "_model_module": "@jupyter-widgets/base",
            "_model_module_version": "1.2.0",
            "_model_name": "LayoutModel",
            "_view_count": null,
            "_view_module": "@jupyter-widgets/base",
            "_view_module_version": "1.2.0",
            "_view_name": "LayoutView",
            "align_content": null,
            "align_items": null,
            "align_self": null,
            "border": null,
            "bottom": null,
            "display": null,
            "flex": null,
            "flex_flow": null,
            "grid_area": null,
            "grid_auto_columns": null,
            "grid_auto_flow": null,
            "grid_auto_rows": null,
            "grid_column": null,
            "grid_gap": null,
            "grid_row": null,
            "grid_template_areas": null,
            "grid_template_columns": null,
            "grid_template_rows": null,
            "height": null,
            "justify_content": null,
            "justify_items": null,
            "left": null,
            "margin": null,
            "max_height": null,
            "max_width": null,
            "min_height": null,
            "min_width": null,
            "object_fit": null,
            "object_position": null,
            "order": null,
            "overflow": null,
            "overflow_x": null,
            "overflow_y": null,
            "padding": null,
            "right": null,
            "top": null,
            "visibility": null,
            "width": null
          }
        },
        "1337038b275141e387de9df930f31e2a": {
          "model_module": "@jupyter-widgets/controls",
          "model_name": "ProgressStyleModel",
          "model_module_version": "1.5.0",
          "state": {
            "_model_module": "@jupyter-widgets/controls",
            "_model_module_version": "1.5.0",
            "_model_name": "ProgressStyleModel",
            "_view_count": null,
            "_view_module": "@jupyter-widgets/base",
            "_view_module_version": "1.2.0",
            "_view_name": "StyleView",
            "bar_color": null,
            "description_width": ""
          }
        },
        "79ff019f59984a108bb1b1bba59ce39c": {
          "model_module": "@jupyter-widgets/base",
          "model_name": "LayoutModel",
          "model_module_version": "1.2.0",
          "state": {
            "_model_module": "@jupyter-widgets/base",
            "_model_module_version": "1.2.0",
            "_model_name": "LayoutModel",
            "_view_count": null,
            "_view_module": "@jupyter-widgets/base",
            "_view_module_version": "1.2.0",
            "_view_name": "LayoutView",
            "align_content": null,
            "align_items": null,
            "align_self": null,
            "border": null,
            "bottom": null,
            "display": null,
            "flex": null,
            "flex_flow": null,
            "grid_area": null,
            "grid_auto_columns": null,
            "grid_auto_flow": null,
            "grid_auto_rows": null,
            "grid_column": null,
            "grid_gap": null,
            "grid_row": null,
            "grid_template_areas": null,
            "grid_template_columns": null,
            "grid_template_rows": null,
            "height": null,
            "justify_content": null,
            "justify_items": null,
            "left": null,
            "margin": null,
            "max_height": null,
            "max_width": null,
            "min_height": null,
            "min_width": null,
            "object_fit": null,
            "object_position": null,
            "order": null,
            "overflow": null,
            "overflow_x": null,
            "overflow_y": null,
            "padding": null,
            "right": null,
            "top": null,
            "visibility": null,
            "width": null
          }
        },
        "6c29caac5eee42818943ee7e8c2f3c5c": {
          "model_module": "@jupyter-widgets/controls",
          "model_name": "DescriptionStyleModel",
          "model_module_version": "1.5.0",
          "state": {
            "_model_module": "@jupyter-widgets/controls",
            "_model_module_version": "1.5.0",
            "_model_name": "DescriptionStyleModel",
            "_view_count": null,
            "_view_module": "@jupyter-widgets/base",
            "_view_module_version": "1.2.0",
            "_view_name": "StyleView",
            "description_width": ""
          }
        }
      }
    }
  },
  "cells": [
    {
      "cell_type": "markdown",
      "metadata": {
        "id": "view-in-github",
        "colab_type": "text"
      },
      "source": [
        "<a href=\"https://colab.research.google.com/github/mjgroth/deephys-aio/blob/master/Python_Tutorial.ipynb\" target=\"_parent\"><img src=\"https://colab.research.google.com/assets/colab-badge.svg\" alt=\"Open In Colab\"/></a>"
      ]
    },
    {
      "cell_type": "markdown",
      "source": [
        "# Setup Deephys\n",
        "\n"
      ],
      "metadata": {
        "id": "N_KbyT_1o9BF"
      }
    },
    {
      "cell_type": "markdown",
      "source": [],
      "metadata": {
        "id": "3Tkk3ehbMunH"
      }
    },
    {
      "cell_type": "code",
      "source": [
        "#@title 1. Install Deephys From PIP\n",
        "\n",
        "!pip install deephys==0.7.2"
      ],
      "metadata": {
        "colab": {
          "base_uri": "https://localhost:8080/"
        },
        "id": "UO0wyn2CViHA",
        "outputId": "cadda42f-82b0-4bc5-f580-68085782e3f5"
      },
      "execution_count": 1,
      "outputs": [
        {
          "output_type": "stream",
          "name": "stdout",
          "text": [
            "Looking in indexes: https://pypi.org/simple, https://us-python.pkg.dev/colab-wheels/public/simple/\n",
            "Collecting deephys==0.7.2\n",
            "  Downloading deephys-0.7.2-py3-none-any.whl (3.4 kB)\n",
            "Collecting cbor2\n",
            "  Downloading cbor2-5.4.6-cp38-cp38-manylinux_2_17_x86_64.manylinux2014_x86_64.whl (236 kB)\n",
            "\u001b[2K     \u001b[90m━━━━━━━━━━━━━━━━━━━━━━━━━━━━━━━━━━━━━━\u001b[0m \u001b[32m236.3/236.3 KB\u001b[0m \u001b[31m14.2 MB/s\u001b[0m eta \u001b[36m0:00:00\u001b[0m\n",
            "\u001b[?25hRequirement already satisfied: torch in /usr/local/lib/python3.8/dist-packages (from deephys==0.7.2) (1.13.0+cu116)\n",
            "Requirement already satisfied: numpy in /usr/local/lib/python3.8/dist-packages (from deephys==0.7.2) (1.21.6)\n",
            "Requirement already satisfied: typing-extensions in /usr/local/lib/python3.8/dist-packages (from torch->deephys==0.7.2) (4.4.0)\n",
            "Installing collected packages: cbor2, deephys\n",
            "Successfully installed cbor2-5.4.6 deephys-0.7.2\n"
          ]
        }
      ]
    },
    {
      "cell_type": "code",
      "source": [
        "#@title 2. Import Names From Deephys\n",
        "\n",
        "from deephys import *"
      ],
      "metadata": {
        "id": "_rjwxObUVnzX"
      },
      "execution_count": 2,
      "outputs": []
    },
    {
      "cell_type": "markdown",
      "source": [
        "# Run Neural Network Experiment"
      ],
      "metadata": {
        "id": "Ky2zpklwpN1W"
      }
    },
    {
      "cell_type": "code",
      "source": [
        "!pip install torch torchvision"
      ],
      "metadata": {
        "id": "VtUgz8xGYKHj",
        "outputId": "1a40e998-0bde-4fc8-ae39-c5a4a854ab74",
        "colab": {
          "base_uri": "https://localhost:8080/"
        }
      },
      "execution_count": 3,
      "outputs": [
        {
          "output_type": "stream",
          "name": "stdout",
          "text": [
            "Looking in indexes: https://pypi.org/simple, https://us-python.pkg.dev/colab-wheels/public/simple/\n",
            "Requirement already satisfied: torch in /usr/local/lib/python3.8/dist-packages (1.13.0+cu116)\n",
            "Requirement already satisfied: torchvision in /usr/local/lib/python3.8/dist-packages (0.14.0+cu116)\n",
            "Requirement already satisfied: typing-extensions in /usr/local/lib/python3.8/dist-packages (from torch) (4.4.0)\n",
            "Requirement already satisfied: requests in /usr/local/lib/python3.8/dist-packages (from torchvision) (2.25.1)\n",
            "Requirement already satisfied: pillow!=8.3.*,>=5.3.0 in /usr/local/lib/python3.8/dist-packages (from torchvision) (7.1.2)\n",
            "Requirement already satisfied: numpy in /usr/local/lib/python3.8/dist-packages (from torchvision) (1.21.6)\n",
            "Requirement already satisfied: certifi>=2017.4.17 in /usr/local/lib/python3.8/dist-packages (from requests->torchvision) (2022.12.7)\n",
            "Requirement already satisfied: urllib3<1.27,>=1.21.1 in /usr/local/lib/python3.8/dist-packages (from requests->torchvision) (1.24.3)\n",
            "Requirement already satisfied: idna<3,>=2.5 in /usr/local/lib/python3.8/dist-packages (from requests->torchvision) (2.10)\n",
            "Requirement already satisfied: chardet<5,>=3.0.2 in /usr/local/lib/python3.8/dist-packages (from requests->torchvision) (4.0.0)\n"
          ]
        }
      ]
    },
    {
      "cell_type": "code",
      "source": [
        "#Import Libraries\n",
        "from __future__ import print_function\n",
        "import argparse\n",
        "import torch\n",
        "import torchvision\n",
        "import torch.nn as nn\n",
        "import torch.nn.functional as F\n",
        "import torch.optim as optim\n",
        "from torchvision import datasets, transforms\n",
        "from torch.autograd import Variable\n",
        "\n",
        "#Argument initializatio\n",
        "args={}\n",
        "kwargs={}\n",
        "args['batch_size']=128\n",
        "args['cuda']=True #Enabling cuda is required\n",
        "\n",
        "#load the data (with normalization)\n",
        "transform_train = transforms.Compose([\n",
        "    transforms.RandomCrop(32, padding=4),\n",
        "    transforms.RandomHorizontalFlip(),\n",
        "    transforms.ToTensor(),\n",
        "    transforms.Normalize((0.4914, 0.4822, 0.4465), (0.2023, 0.1994, 0.2010)),\n",
        "])\n",
        "\n",
        "transform_test = transforms.Compose([\n",
        "    transforms.ToTensor(),\n",
        "    transforms.Normalize((0.4914, 0.4822, 0.4465), (0.2023, 0.1994, 0.2010)),\n",
        "])\n",
        "\n",
        "trainset = torchvision.datasets.CIFAR10(root='./data', train=True,\n",
        "                                        download=True, transform=transform_train)\n",
        "trainloader = torch.utils.data.DataLoader(trainset, batch_size=args['batch_size'],\n",
        "                                          shuffle=True, num_workers=2)\n",
        "\n",
        "testset = torchvision.datasets.CIFAR10(root='./data', train=False,\n",
        "                                       download=True, transform=transform_test)\n",
        "testloader = torch.utils.data.DataLoader(testset, batch_size=args['batch_size'],\n",
        "                                         shuffle=False, num_workers=2)\n",
        "\n",
        "classes = ('plane', 'car', 'bird', 'cat',\n",
        "           'deer', 'dog', 'frog', 'horse', 'ship', 'truck')"
      ],
      "metadata": {
        "id": "py3aEdlHJGOD",
        "colab": {
          "base_uri": "https://localhost:8080/",
          "referenced_widgets": [
            "a5790a6c304d4e6abc520da87166e300",
            "945e131693ca4ca49cb08cb6704829af",
            "56ac0e0f050e428b800c95d6878bb33c",
            "4f9d5aed868f433c87116d7601a39ddd",
            "3eb0700b85f74c66948d9c9cb81ba836",
            "7d05fdbbde8348e888cfefb3eb53e02b",
            "bd8479f48680457cb7463dd4d71ef775",
            "c543f995c3e6470695d77d477287ca98",
            "1337038b275141e387de9df930f31e2a",
            "79ff019f59984a108bb1b1bba59ce39c",
            "6c29caac5eee42818943ee7e8c2f3c5c"
          ],
          "height": 102
        },
        "outputId": "d836083a-eb5b-4b1d-9eef-4244d1dd2459"
      },
      "execution_count": 4,
      "outputs": [
        {
          "output_type": "stream",
          "name": "stdout",
          "text": [
            "Downloading https://www.cs.toronto.edu/~kriz/cifar-10-python.tar.gz to ./data/cifar-10-python.tar.gz\n"
          ]
        },
        {
          "output_type": "display_data",
          "data": {
            "text/plain": [
              "  0%|          | 0/170498071 [00:00<?, ?it/s]"
            ],
            "application/vnd.jupyter.widget-view+json": {
              "version_major": 2,
              "version_minor": 0,
              "model_id": "a5790a6c304d4e6abc520da87166e300"
            }
          },
          "metadata": {}
        },
        {
          "output_type": "stream",
          "name": "stdout",
          "text": [
            "Extracting ./data/cifar-10-python.tar.gz to ./data\n",
            "Files already downloaded and verified\n"
          ]
        }
      ]
    },
    {
      "cell_type": "code",
      "source": [
        "#Neural network model definition (Different ResNet versions)\n",
        "'''ResNet in PyTorch.\n",
        "For Pre-activation ResNet, see 'preact_resnet.py'.\n",
        "Reference:\n",
        "[1] Kaiming He, Xiangyu Zhang, Shaoqing Ren, Jian Sun\n",
        "    Deep Residual Learning for Image Recognition. arXiv:1512.03385\n",
        "'''\n",
        "import torch\n",
        "import torch.nn as nn\n",
        "import torch.nn.functional as F\n",
        "\n",
        "\n",
        "class BasicBlock(nn.Module):\n",
        "    expansion = 1\n",
        "\n",
        "    def __init__(self, in_planes, planes, stride=1):\n",
        "        super(BasicBlock, self).__init__()\n",
        "        self.conv1 = nn.Conv2d(\n",
        "            in_planes, planes, kernel_size=3, stride=stride, padding=1, bias=False)\n",
        "        self.bn1 = nn.BatchNorm2d(planes)\n",
        "        self.conv2 = nn.Conv2d(planes, planes, kernel_size=3,\n",
        "                               stride=1, padding=1, bias=False)\n",
        "        self.bn2 = nn.BatchNorm2d(planes)\n",
        "\n",
        "        self.shortcut = nn.Sequential()\n",
        "        if stride != 1 or in_planes != self.expansion*planes:\n",
        "            self.shortcut = nn.Sequential(\n",
        "                nn.Conv2d(in_planes, self.expansion*planes,\n",
        "                          kernel_size=1, stride=stride, bias=False),\n",
        "                nn.BatchNorm2d(self.expansion*planes)\n",
        "            )\n",
        "\n",
        "    def forward(self, x):\n",
        "        out = F.relu(self.bn1(self.conv1(x)))\n",
        "        out = self.bn2(self.conv2(out))\n",
        "        out += self.shortcut(x)\n",
        "        out = F.relu(out)\n",
        "        return out\n",
        "\n",
        "\n",
        "class Bottleneck(nn.Module):\n",
        "    expansion = 4\n",
        "\n",
        "    def __init__(self, in_planes, planes, stride=1):\n",
        "        super(Bottleneck, self).__init__()\n",
        "        self.conv1 = nn.Conv2d(in_planes, planes, kernel_size=1, bias=False)\n",
        "        self.bn1 = nn.BatchNorm2d(planes)\n",
        "        self.conv2 = nn.Conv2d(planes, planes, kernel_size=3,\n",
        "                               stride=stride, padding=1, bias=False)\n",
        "        self.bn2 = nn.BatchNorm2d(planes)\n",
        "        self.conv3 = nn.Conv2d(planes, self.expansion *\n",
        "                               planes, kernel_size=1, bias=False)\n",
        "        self.bn3 = nn.BatchNorm2d(self.expansion*planes)\n",
        "\n",
        "        self.shortcut = nn.Sequential()\n",
        "        if stride != 1 or in_planes != self.expansion*planes:\n",
        "            self.shortcut = nn.Sequential(\n",
        "                nn.Conv2d(in_planes, self.expansion*planes,\n",
        "                          kernel_size=1, stride=stride, bias=False),\n",
        "                nn.BatchNorm2d(self.expansion*planes)\n",
        "            )\n",
        "\n",
        "    def forward(self, x):\n",
        "        out = F.relu(self.bn1(self.conv1(x)))\n",
        "        out = F.relu(self.bn2(self.conv2(out)))\n",
        "        out = self.bn3(self.conv3(out))\n",
        "        out += self.shortcut(x)\n",
        "        out = F.relu(out)\n",
        "        return out\n",
        "\n",
        "\n",
        "class ResNet(nn.Module):\n",
        "    def __init__(self, block, num_blocks, num_classes=10):\n",
        "        super(ResNet, self).__init__()\n",
        "        self.in_planes = 64\n",
        "\n",
        "        self.conv1 = nn.Conv2d(3, 64, kernel_size=3,\n",
        "                               stride=1, padding=1, bias=False)\n",
        "        self.bn1 = nn.BatchNorm2d(64)\n",
        "        self.layer1 = self._make_layer(block, 64, num_blocks[0], stride=1)\n",
        "        self.layer2 = self._make_layer(block, 128, num_blocks[1], stride=2)\n",
        "        self.layer3 = self._make_layer(block, 256, num_blocks[2], stride=2)\n",
        "        self.layer4 = self._make_layer(block, 512, num_blocks[3], stride=2)\n",
        "        self.linear1 = nn.Linear(512*block.expansion, 50)\n",
        "        self.linear2 = nn.Linear(50, num_classes)\n",
        "\n",
        "    def _make_layer(self, block, planes, num_blocks, stride):\n",
        "        strides = [stride] + [1]*(num_blocks-1)\n",
        "        layers = []\n",
        "        for stride in strides:\n",
        "            layers.append(block(self.in_planes, planes, stride))\n",
        "            self.in_planes = planes * block.expansion\n",
        "        return nn.Sequential(*layers)\n",
        "\n",
        "    def forward(self, x):\n",
        "        out = F.relu(self.bn1(self.conv1(x)))\n",
        "        out = self.layer1(out)\n",
        "        out = self.layer2(out)\n",
        "        out = self.layer3(out)\n",
        "        out = self.layer4(out)\n",
        "        out = F.avg_pool2d(out, 4)\n",
        "        out = out.view(out.size(0), -1)\n",
        "        out = self.linear1(out)\n",
        "        out = self.linear2(out)\n",
        "        return out\n",
        "\n",
        "\n",
        "def ResNet18():\n",
        "    return ResNet(BasicBlock, [2, 2, 2, 2])\n",
        "\n",
        "\n",
        "# def ResNet34():\n",
        "#     return ResNet(BasicBlock, [3, 4, 6, 3])\n",
        "\n",
        "\n",
        "# def ResNet50():\n",
        "#     return ResNet(Bottleneck, [3, 4, 6, 3])\n",
        "\n",
        "\n",
        "# def ResNet101():\n",
        "#     return ResNet(Bottleneck, [3, 4, 23, 3])\n",
        "\n",
        "\n",
        "# def ResNet152():\n",
        "#     return ResNet(Bottleneck, [3, 8, 36, 3])\n",
        "\n",
        "\n",
        "# def test():\n",
        "#     net = ResNet18()\n",
        "#     y = net(torch.randn(1, 3, 32, 32))\n",
        "#     print(y.size())"
      ],
      "metadata": {
        "id": "EDUvllEtjjlJ"
      },
      "execution_count": 5,
      "outputs": []
    },
    {
      "cell_type": "markdown",
      "source": [
        "Please download [this Google Drive file](https://drive.google.com/file/d/1oUMHbE9ck1Wgi_C-RwmnP_w64IFdL3uK/view?usp=sharing) (`cifar_resnet18.pth`) and [this one](https://drive.google.com/file/d/1VtgCfn5YqYs1zJPyj6b5suv_xHlpJ_K1/view?usp=sharing) (`cifar102_train.npz`) too to continue\n",
        "\n",
        "Or use PyDrive below (tutorial reference [link text](https://sigmundojr.medium.com/how-do-i-read-a-csv-file-from-google-drive-using-python-colab-966091922852))"
      ],
      "metadata": {
        "id": "23nRK0aFWU1f"
      }
    },
    {
      "cell_type": "code",
      "source": [
        "#@title Install PyDrive\n",
        "\n",
        "!pip install -U -q PyDrive\n",
        "\n",
        "from pydrive.auth import GoogleAuth\n",
        "\n",
        "from pydrive.drive import GoogleDrive\n",
        "\n",
        "from google.colab import auth\n",
        "\n",
        "from oauth2client.client import GoogleCredentials"
      ],
      "metadata": {
        "id": "mz_PWbyLXKr9"
      },
      "execution_count": 6,
      "outputs": []
    },
    {
      "cell_type": "code",
      "source": [
        "#@title Authenticate PyDrive\n",
        "\n",
        "auth.authenticate_user()\n",
        "gauth = GoogleAuth()\n",
        "gauth.credentials = GoogleCredentials.get_application_default()\n",
        "drive = GoogleDrive(gauth)"
      ],
      "metadata": {
        "id": "jWLjNYYDXXFr"
      },
      "execution_count": 7,
      "outputs": []
    },
    {
      "cell_type": "code",
      "source": [
        "#@title Get File 1\n",
        "\n",
        "fileDownloaded = drive.CreateFile({\"id\":\"1oUMHbE9ck1Wgi_C-RwmnP_w64IFdL3uK\"})\n",
        "fileDownloaded.GetContentFile(\"cifar_resnet18.pth\")"
      ],
      "metadata": {
        "id": "WPlpJi1mXqOY"
      },
      "execution_count": 8,
      "outputs": []
    },
    {
      "cell_type": "code",
      "source": [
        "#@title Get File 2\n",
        "\n",
        "fileDownloaded = drive.CreateFile({\"id\":\"1VtgCfn5YqYs1zJPyj6b5suv_xHlpJ_K1\"})\n",
        "fileDownloaded.GetContentFile(\"cifar102_train.npz\")"
      ],
      "metadata": {
        "id": "vszt3VqPYKjF"
      },
      "execution_count": 9,
      "outputs": []
    },
    {
      "cell_type": "markdown",
      "source": [],
      "metadata": {
        "id": "EA0GqsvAYlhJ"
      }
    },
    {
      "cell_type": "code",
      "source": [
        "#Select a model\n",
        "model = ResNet18()\n",
        "if args['cuda']:\n",
        "    model.cuda()\n",
        "\n",
        "#Load the saved model\n",
        "state_dict = torch.load('cifar_resnet18.pth')\n",
        "model.load_state_dict(state_dict)\n",
        "\n",
        "#This is for CIFAR10\n",
        "#Save the activations for penultimate layer for further experiments\n",
        "from torch.utils.data import dataset\n",
        "from collections import defaultdict\n",
        "import numpy as np\n",
        "all_activs = []\n",
        "all_outputs = []\n",
        "activation = {}\n",
        "def get_activation(name):\n",
        "    def hook(model, input, output):\n",
        "        activation[name] = output.detach()\n",
        "    return hook\n",
        "\n",
        "a_s = defaultdict(list)\n",
        "iterator = iter(testloader)\n",
        "\n",
        "for _ in range(len(testloader)):\n",
        "  data, target = next(iterator)\n",
        "  if args['cuda']:\n",
        "    data, target = data.cuda(), target.cuda()\n",
        "\n",
        "  model.linear1.register_forward_hook(get_activation('linear1'))\n",
        "  # all_outputs.append(model(data))\n",
        "  activation['output'] = model(data).detach().cpu()#.numpy()\n",
        "  all_outputs.append(activation['output'])\n",
        "  activation['linear1'] = F.relu(activation['linear1']).detach().cpu()#.numpy()\n",
        "  all_activs.append(activation['linear1'])\n",
        "\n",
        "all_activs = torch.cat(all_activs)\n",
        "all_outputs = torch.cat(all_outputs)"
      ],
      "metadata": {
        "id": "8VwDhs0jkMAW"
      },
      "execution_count": 10,
      "outputs": []
    },
    {
      "cell_type": "code",
      "source": [
        "#Collect neuron activations of penultimate layer for CIFAR10.2 for further experiments\n",
        "from torch.utils.data import TensorDataset\n",
        "def get_activation(name):\n",
        "      def hook(model, input, output):\n",
        "        activation[name] = output.detach()\n",
        "      return hook\n",
        "\n",
        "test_data = np.load('cifar102_train.npz')\n",
        "all_activs_2 = []\n",
        "all_outputs_2 = []\n",
        "\n",
        "test_data_2 = np.transpose(test_data['images'], (0, 3, 1, 2))/255. #Required before the images can be fed to the model\n",
        "test_data_2[:,0] = (test_data_2[:,0] - 0.4914)/0.2023\n",
        "test_data_2[:,1] = (test_data_2[:,1] - 0.4822)/0.1994\n",
        "test_data_2[:,2] = (test_data_2[:,2] - 0.4465)/0.2010\n",
        "test_data_2 = TensorDataset(torch.FloatTensor(test_data_2), torch.LongTensor(test_data['labels']))\n",
        "testloader_2 = torch.utils.data.DataLoader(test_data_2,\n",
        "    batch_size=args['batch_size'], shuffle=False, **kwargs)\n",
        "\n",
        "activation = {}\n",
        "\n",
        "a_s_2 = defaultdict(list)\n",
        "iterator = iter(testloader_2)\n",
        "\n",
        "for _ in range(len(testloader_2)):\n",
        "  data, target = next(iterator)\n",
        "  if args['cuda']:\n",
        "    data, target = data.cuda(), target.cuda()\n",
        "\n",
        "  model.linear1.register_forward_hook(get_activation('linear1'))\n",
        "  activation['output'] = model(data).detach().cpu()#.numpy()\n",
        "  all_outputs_2.append(activation['output'])\n",
        "  activation['linear1'] = F.relu(activation['linear1']).detach().cpu()#.numpy()\n",
        "  all_activs_2.append(activation['linear1'])\n",
        "\n",
        "all_activs_2 = torch.cat(all_activs_2)\n",
        "all_outputs_2 = torch.cat(all_outputs_2)"
      ],
      "metadata": {
        "id": "23cwdds78CgB"
      },
      "execution_count": 11,
      "outputs": []
    },
    {
      "cell_type": "markdown",
      "source": [
        "# Save Data With Deephys"
      ],
      "metadata": {
        "id": "GpmXD_MSpd7I"
      }
    },
    {
      "cell_type": "code",
      "source": [
        "#@title Save the model file\n",
        "neuronList = []\n",
        "for i in range(np.shape(all_activs)[1]):\n",
        "  neuronList.append(Neuron())\n",
        "\n",
        "layerList = []\n",
        "layerList.append(Layer(\n",
        "    layerID = \"linear1\",\n",
        "    neurons = neuronList\n",
        "))\n",
        "\n",
        "#####\n",
        "neuronList = []\n",
        "for i in range(np.shape(all_outputs)[1]):\n",
        "  neuronList.append(Neuron())\n",
        "\n",
        "layerList.append(Layer(\n",
        "    layerID = \"classification\",\n",
        "    neurons = neuronList\n",
        "))\n",
        "#####\n",
        "\n",
        "model = Model(\n",
        "    name = \"resnet18_cifar\",\n",
        "    suffix = None,\n",
        "    layers = layerList\n",
        ")\n",
        "\n",
        "model.save()"
      ],
      "metadata": {
        "id": "bcEBrF-WYOKI"
      },
      "execution_count": 12,
      "outputs": []
    },
    {
      "cell_type": "code",
      "source": [
        "#@title This is for CIFAR10\n",
        "#Loading the dataset again without normalization\n",
        "testset = torchvision.datasets.CIFAR10(root='./data', train=False,\n",
        "                                   download=True, transform=transforms.ToTensor())\n",
        "testloader = torch.utils.data.DataLoader(testset, batch_size=args['batch_size'],\n",
        "                                        shuffle=False, num_workers=2)\n",
        "\n",
        "\n",
        "test = import_torch_dataset(\n",
        "    \"CIFARV1\",\n",
        "    testloader.dataset,\n",
        "    classes,\n",
        "    [all_activs,all_outputs],\n",
        "    model\n",
        "    )\n",
        "test.suffix = None\n",
        "for im in test.images:\n",
        "  im.features = {\n",
        "      \"texture\": \"elephant\"\n",
        "  }\n",
        "test.save()"
      ],
      "metadata": {
        "id": "fXw9BgDdmTZs",
        "colab": {
          "base_uri": "https://localhost:8080/"
        },
        "outputId": "e62debbe-b62d-47c7-b928-d7b9763cf77a"
      },
      "execution_count": 13,
      "outputs": [
        {
          "output_type": "stream",
          "name": "stdout",
          "text": [
            "Files already downloaded and verified\n"
          ]
        }
      ]
    },
    {
      "cell_type": "code",
      "source": [
        "#@title This is for CIFAR10.2\n",
        "#Loading the dataset again without normalization\n",
        "\n",
        "test_data_2 = np.transpose(test_data['images'], (0, 3, 1, 2))/255.\n",
        "test_data_2 = TensorDataset(torch.FloatTensor(test_data_2), torch.LongTensor(test_data['labels']))\n",
        "\n",
        "testloader = torch.utils.data.DataLoader(test_data_2,\n",
        "    batch_size=args['batch_size'], shuffle=False, **kwargs)\n",
        "\n",
        "testV2 = import_torch_dataset(\n",
        "    \"CIFARV2\",\n",
        "    testloader.dataset,\n",
        "    classes,\n",
        "    [all_activs_2,all_outputs_2],\n",
        "    model\n",
        "    )\n",
        "test.suffix = None\n",
        "testV2.save()"
      ],
      "metadata": {
        "id": "NdRJAPpwm6tk"
      },
      "execution_count": 14,
      "outputs": []
    }
  ]
}