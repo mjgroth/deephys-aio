{
  "nbformat": 4,
  "nbformat_minor": 0,
  "metadata": {
    "colab": {
      "provenance": [],
      "include_colab_link": true
    },
    "kernelspec": {
      "name": "python3",
      "display_name": "Python 3"
    },
    "language_info": {
      "name": "python"
    },
    "accelerator": "GPU",
    "gpuClass": "standard",
    "widgets": {
      "application/vnd.jupyter.widget-state+json": {
        "55cc2ee4025d4cf5a808e857d98c08b5": {
          "model_module": "@jupyter-widgets/controls",
          "model_name": "HBoxModel",
          "model_module_version": "1.5.0",
          "state": {
            "_dom_classes": [],
            "_model_module": "@jupyter-widgets/controls",
            "_model_module_version": "1.5.0",
            "_model_name": "HBoxModel",
            "_view_count": null,
            "_view_module": "@jupyter-widgets/controls",
            "_view_module_version": "1.5.0",
            "_view_name": "HBoxView",
            "box_style": "",
            "children": [
              "IPY_MODEL_39472a4be3f1417b81104f19ab77075e",
              "IPY_MODEL_dfb3687803464e8ca7d4989c53ec3ab1",
              "IPY_MODEL_53c7c49b8e1f4fa19f6543b58e102734"
            ],
            "layout": "IPY_MODEL_e7db8887a7c54362b195736b6fcacf3f"
          }
        },
        "39472a4be3f1417b81104f19ab77075e": {
          "model_module": "@jupyter-widgets/controls",
          "model_name": "HTMLModel",
          "model_module_version": "1.5.0",
          "state": {
            "_dom_classes": [],
            "_model_module": "@jupyter-widgets/controls",
            "_model_module_version": "1.5.0",
            "_model_name": "HTMLModel",
            "_view_count": null,
            "_view_module": "@jupyter-widgets/controls",
            "_view_module_version": "1.5.0",
            "_view_name": "HTMLView",
            "description": "",
            "description_tooltip": null,
            "layout": "IPY_MODEL_87195026f3ab46a3b6d7eb4c52adc983",
            "placeholder": "​",
            "style": "IPY_MODEL_12ee372b9aa345d781e42d60f2ad9509",
            "value": "100%"
          }
        },
        "dfb3687803464e8ca7d4989c53ec3ab1": {
          "model_module": "@jupyter-widgets/controls",
          "model_name": "FloatProgressModel",
          "model_module_version": "1.5.0",
          "state": {
            "_dom_classes": [],
            "_model_module": "@jupyter-widgets/controls",
            "_model_module_version": "1.5.0",
            "_model_name": "FloatProgressModel",
            "_view_count": null,
            "_view_module": "@jupyter-widgets/controls",
            "_view_module_version": "1.5.0",
            "_view_name": "ProgressView",
            "bar_style": "success",
            "description": "",
            "description_tooltip": null,
            "layout": "IPY_MODEL_e2f135ad25e1429ca57dc64418895a51",
            "max": 170498071,
            "min": 0,
            "orientation": "horizontal",
            "style": "IPY_MODEL_d7f09eb767b74cd49f1b29f441b456f6",
            "value": 170498071
          }
        },
        "53c7c49b8e1f4fa19f6543b58e102734": {
          "model_module": "@jupyter-widgets/controls",
          "model_name": "HTMLModel",
          "model_module_version": "1.5.0",
          "state": {
            "_dom_classes": [],
            "_model_module": "@jupyter-widgets/controls",
            "_model_module_version": "1.5.0",
            "_model_name": "HTMLModel",
            "_view_count": null,
            "_view_module": "@jupyter-widgets/controls",
            "_view_module_version": "1.5.0",
            "_view_name": "HTMLView",
            "description": "",
            "description_tooltip": null,
            "layout": "IPY_MODEL_a9388bd2d2984258a9f231233f2ee038",
            "placeholder": "​",
            "style": "IPY_MODEL_514559f7af9c4b01a1496c95f572ccb2",
            "value": " 170498071/170498071 [00:13&lt;00:00, 13984341.50it/s]"
          }
        },
        "e7db8887a7c54362b195736b6fcacf3f": {
          "model_module": "@jupyter-widgets/base",
          "model_name": "LayoutModel",
          "model_module_version": "1.2.0",
          "state": {
            "_model_module": "@jupyter-widgets/base",
            "_model_module_version": "1.2.0",
            "_model_name": "LayoutModel",
            "_view_count": null,
            "_view_module": "@jupyter-widgets/base",
            "_view_module_version": "1.2.0",
            "_view_name": "LayoutView",
            "align_content": null,
            "align_items": null,
            "align_self": null,
            "border": null,
            "bottom": null,
            "display": null,
            "flex": null,
            "flex_flow": null,
            "grid_area": null,
            "grid_auto_columns": null,
            "grid_auto_flow": null,
            "grid_auto_rows": null,
            "grid_column": null,
            "grid_gap": null,
            "grid_row": null,
            "grid_template_areas": null,
            "grid_template_columns": null,
            "grid_template_rows": null,
            "height": null,
            "justify_content": null,
            "justify_items": null,
            "left": null,
            "margin": null,
            "max_height": null,
            "max_width": null,
            "min_height": null,
            "min_width": null,
            "object_fit": null,
            "object_position": null,
            "order": null,
            "overflow": null,
            "overflow_x": null,
            "overflow_y": null,
            "padding": null,
            "right": null,
            "top": null,
            "visibility": null,
            "width": null
          }
        },
        "87195026f3ab46a3b6d7eb4c52adc983": {
          "model_module": "@jupyter-widgets/base",
          "model_name": "LayoutModel",
          "model_module_version": "1.2.0",
          "state": {
            "_model_module": "@jupyter-widgets/base",
            "_model_module_version": "1.2.0",
            "_model_name": "LayoutModel",
            "_view_count": null,
            "_view_module": "@jupyter-widgets/base",
            "_view_module_version": "1.2.0",
            "_view_name": "LayoutView",
            "align_content": null,
            "align_items": null,
            "align_self": null,
            "border": null,
            "bottom": null,
            "display": null,
            "flex": null,
            "flex_flow": null,
            "grid_area": null,
            "grid_auto_columns": null,
            "grid_auto_flow": null,
            "grid_auto_rows": null,
            "grid_column": null,
            "grid_gap": null,
            "grid_row": null,
            "grid_template_areas": null,
            "grid_template_columns": null,
            "grid_template_rows": null,
            "height": null,
            "justify_content": null,
            "justify_items": null,
            "left": null,
            "margin": null,
            "max_height": null,
            "max_width": null,
            "min_height": null,
            "min_width": null,
            "object_fit": null,
            "object_position": null,
            "order": null,
            "overflow": null,
            "overflow_x": null,
            "overflow_y": null,
            "padding": null,
            "right": null,
            "top": null,
            "visibility": null,
            "width": null
          }
        },
        "12ee372b9aa345d781e42d60f2ad9509": {
          "model_module": "@jupyter-widgets/controls",
          "model_name": "DescriptionStyleModel",
          "model_module_version": "1.5.0",
          "state": {
            "_model_module": "@jupyter-widgets/controls",
            "_model_module_version": "1.5.0",
            "_model_name": "DescriptionStyleModel",
            "_view_count": null,
            "_view_module": "@jupyter-widgets/base",
            "_view_module_version": "1.2.0",
            "_view_name": "StyleView",
            "description_width": ""
          }
        },
        "e2f135ad25e1429ca57dc64418895a51": {
          "model_module": "@jupyter-widgets/base",
          "model_name": "LayoutModel",
          "model_module_version": "1.2.0",
          "state": {
            "_model_module": "@jupyter-widgets/base",
            "_model_module_version": "1.2.0",
            "_model_name": "LayoutModel",
            "_view_count": null,
            "_view_module": "@jupyter-widgets/base",
            "_view_module_version": "1.2.0",
            "_view_name": "LayoutView",
            "align_content": null,
            "align_items": null,
            "align_self": null,
            "border": null,
            "bottom": null,
            "display": null,
            "flex": null,
            "flex_flow": null,
            "grid_area": null,
            "grid_auto_columns": null,
            "grid_auto_flow": null,
            "grid_auto_rows": null,
            "grid_column": null,
            "grid_gap": null,
            "grid_row": null,
            "grid_template_areas": null,
            "grid_template_columns": null,
            "grid_template_rows": null,
            "height": null,
            "justify_content": null,
            "justify_items": null,
            "left": null,
            "margin": null,
            "max_height": null,
            "max_width": null,
            "min_height": null,
            "min_width": null,
            "object_fit": null,
            "object_position": null,
            "order": null,
            "overflow": null,
            "overflow_x": null,
            "overflow_y": null,
            "padding": null,
            "right": null,
            "top": null,
            "visibility": null,
            "width": null
          }
        },
        "d7f09eb767b74cd49f1b29f441b456f6": {
          "model_module": "@jupyter-widgets/controls",
          "model_name": "ProgressStyleModel",
          "model_module_version": "1.5.0",
          "state": {
            "_model_module": "@jupyter-widgets/controls",
            "_model_module_version": "1.5.0",
            "_model_name": "ProgressStyleModel",
            "_view_count": null,
            "_view_module": "@jupyter-widgets/base",
            "_view_module_version": "1.2.0",
            "_view_name": "StyleView",
            "bar_color": null,
            "description_width": ""
          }
        },
        "a9388bd2d2984258a9f231233f2ee038": {
          "model_module": "@jupyter-widgets/base",
          "model_name": "LayoutModel",
          "model_module_version": "1.2.0",
          "state": {
            "_model_module": "@jupyter-widgets/base",
            "_model_module_version": "1.2.0",
            "_model_name": "LayoutModel",
            "_view_count": null,
            "_view_module": "@jupyter-widgets/base",
            "_view_module_version": "1.2.0",
            "_view_name": "LayoutView",
            "align_content": null,
            "align_items": null,
            "align_self": null,
            "border": null,
            "bottom": null,
            "display": null,
            "flex": null,
            "flex_flow": null,
            "grid_area": null,
            "grid_auto_columns": null,
            "grid_auto_flow": null,
            "grid_auto_rows": null,
            "grid_column": null,
            "grid_gap": null,
            "grid_row": null,
            "grid_template_areas": null,
            "grid_template_columns": null,
            "grid_template_rows": null,
            "height": null,
            "justify_content": null,
            "justify_items": null,
            "left": null,
            "margin": null,
            "max_height": null,
            "max_width": null,
            "min_height": null,
            "min_width": null,
            "object_fit": null,
            "object_position": null,
            "order": null,
            "overflow": null,
            "overflow_x": null,
            "overflow_y": null,
            "padding": null,
            "right": null,
            "top": null,
            "visibility": null,
            "width": null
          }
        },
        "514559f7af9c4b01a1496c95f572ccb2": {
          "model_module": "@jupyter-widgets/controls",
          "model_name": "DescriptionStyleModel",
          "model_module_version": "1.5.0",
          "state": {
            "_model_module": "@jupyter-widgets/controls",
            "_model_module_version": "1.5.0",
            "_model_name": "DescriptionStyleModel",
            "_view_count": null,
            "_view_module": "@jupyter-widgets/base",
            "_view_module_version": "1.2.0",
            "_view_name": "StyleView",
            "description_width": ""
          }
        }
      }
    }
  },
  "cells": [
    {
      "cell_type": "markdown",
      "metadata": {
        "id": "view-in-github",
        "colab_type": "text"
      },
      "source": [
        "<a href=\"https://colab.research.google.com/github/mjgroth/deephys-aio/blob/master/tutorials/CIFAR_Tutorial.ipynb\" target=\"_parent\"><img src=\"https://colab.research.google.com/assets/colab-badge.svg\" alt=\"Open In Colab\"/></a>"
      ]
    },
    {
      "cell_type": "code",
      "source": [
        "#@title 1. Install dependencies\n",
        "\n",
        "!pip install torch torchvision # We will use Torch as the deep net platform\n",
        "!pip install deephys==0.14.0 # To export the neural activity to deephys"
      ],
      "metadata": {
        "colab": {
          "base_uri": "https://localhost:8080/"
        },
        "id": "UO0wyn2CViHA",
        "outputId": "8db9785b-b993-41be-c971-ca098ce54a93"
      },
      "execution_count": 1,
      "outputs": [
        {
          "output_type": "stream",
          "name": "stdout",
          "text": [
            "Looking in indexes: https://pypi.org/simple, https://us-python.pkg.dev/colab-wheels/public/simple/\n",
            "Requirement already satisfied: torch in /usr/local/lib/python3.8/dist-packages (1.13.1+cu116)\n",
            "Requirement already satisfied: torchvision in /usr/local/lib/python3.8/dist-packages (0.14.1+cu116)\n",
            "Requirement already satisfied: typing-extensions in /usr/local/lib/python3.8/dist-packages (from torch) (4.5.0)\n",
            "Requirement already satisfied: pillow!=8.3.*,>=5.3.0 in /usr/local/lib/python3.8/dist-packages (from torchvision) (7.1.2)\n",
            "Requirement already satisfied: requests in /usr/local/lib/python3.8/dist-packages (from torchvision) (2.25.1)\n",
            "Requirement already satisfied: numpy in /usr/local/lib/python3.8/dist-packages (from torchvision) (1.21.6)\n",
            "Requirement already satisfied: idna<3,>=2.5 in /usr/local/lib/python3.8/dist-packages (from requests->torchvision) (2.10)\n",
            "Requirement already satisfied: chardet<5,>=3.0.2 in /usr/local/lib/python3.8/dist-packages (from requests->torchvision) (4.0.0)\n",
            "Requirement already satisfied: urllib3<1.27,>=1.21.1 in /usr/local/lib/python3.8/dist-packages (from requests->torchvision) (1.24.3)\n",
            "Requirement already satisfied: certifi>=2017.4.17 in /usr/local/lib/python3.8/dist-packages (from requests->torchvision) (2022.12.7)\n",
            "Looking in indexes: https://pypi.org/simple, https://us-python.pkg.dev/colab-wheels/public/simple/\n",
            "Collecting deephys==0.14.0\n",
            "  Downloading deephys-0.14.0-py3-none-any.whl (5.2 kB)\n",
            "Collecting cbor2\n",
            "  Downloading cbor2-5.4.6-cp38-cp38-manylinux_2_17_x86_64.manylinux2014_x86_64.whl (236 kB)\n",
            "\u001b[2K     \u001b[90m━━━━━━━━━━━━━━━━━━━━━━━━━━━━━━━━━━━━━━━\u001b[0m \u001b[32m236.3/236.3 KB\u001b[0m \u001b[31m7.4 MB/s\u001b[0m eta \u001b[36m0:00:00\u001b[0m\n",
            "\u001b[?25hRequirement already satisfied: tqdm in /usr/local/lib/python3.8/dist-packages (from deephys==0.14.0) (4.64.1)\n",
            "Requirement already satisfied: numpy in /usr/local/lib/python3.8/dist-packages (from deephys==0.14.0) (1.21.6)\n",
            "Installing collected packages: cbor2, deephys\n",
            "Successfully installed cbor2-5.4.6 deephys-0.14.0\n"
          ]
        }
      ]
    },
    {
      "cell_type": "code",
      "source": [
        "#@title 2. Define neural net model\n",
        "\n",
        "#Import Libraries\n",
        "from __future__ import print_function\n",
        "import argparse\n",
        "import torch\n",
        "import torchvision\n",
        "import torch.nn as nn\n",
        "import torch.nn.functional as F\n",
        "import torch.optim as optim\n",
        "from torch.utils.data import TensorDataset\n",
        "from torchvision import datasets, transforms\n",
        "from torch.autograd import Variable\n",
        "\n",
        "import numpy as np\n",
        "\n",
        "\n",
        "# Neural network model definition (Different ResNet versions)\n",
        "'''ResNet in PyTorch.\n",
        "For Pre-activation ResNet, see 'preact_resnet.py'.\n",
        "Reference:\n",
        "[1] Kaiming He, Xiangyu Zhang, Shaoqing Ren, Jian Sun\n",
        "    Deep Residual Learning for Image Recognition. arXiv:1512.03385\n",
        "'''\n",
        "\n",
        "class BasicBlock(nn.Module):\n",
        "    expansion = 1\n",
        "\n",
        "    def __init__(self, in_planes, planes, stride=1):\n",
        "        super(BasicBlock, self).__init__()\n",
        "        self.conv1 = nn.Conv2d(\n",
        "            in_planes, planes, kernel_size=3, stride=stride, padding=1, bias=False)\n",
        "        self.bn1 = nn.BatchNorm2d(planes)\n",
        "        self.conv2 = nn.Conv2d(planes, planes, kernel_size=3,\n",
        "                               stride=1, padding=1, bias=False)\n",
        "        self.bn2 = nn.BatchNorm2d(planes)\n",
        "\n",
        "        self.shortcut = nn.Sequential()\n",
        "        if stride != 1 or in_planes != self.expansion*planes:\n",
        "            self.shortcut = nn.Sequential(\n",
        "                nn.Conv2d(in_planes, self.expansion*planes,\n",
        "                          kernel_size=1, stride=stride, bias=False),\n",
        "                nn.BatchNorm2d(self.expansion*planes)\n",
        "            )\n",
        "\n",
        "    def forward(self, x):\n",
        "        out = F.relu(self.bn1(self.conv1(x)))\n",
        "        out = self.bn2(self.conv2(out))\n",
        "        out += self.shortcut(x)\n",
        "        out = F.relu(out)\n",
        "        return out\n",
        "\n",
        "\n",
        "class Bottleneck(nn.Module):\n",
        "    expansion = 4\n",
        "\n",
        "    def __init__(self, in_planes, planes, stride=1):\n",
        "        super(Bottleneck, self).__init__()\n",
        "        self.conv1 = nn.Conv2d(in_planes, planes, kernel_size=1, bias=False)\n",
        "        self.bn1 = nn.BatchNorm2d(planes)\n",
        "        self.conv2 = nn.Conv2d(planes, planes, kernel_size=3,\n",
        "                               stride=stride, padding=1, bias=False)\n",
        "        self.bn2 = nn.BatchNorm2d(planes)\n",
        "        self.conv3 = nn.Conv2d(planes, self.expansion *\n",
        "                               planes, kernel_size=1, bias=False)\n",
        "        self.bn3 = nn.BatchNorm2d(self.expansion*planes)\n",
        "\n",
        "        self.shortcut = nn.Sequential()\n",
        "        if stride != 1 or in_planes != self.expansion*planes:\n",
        "            self.shortcut = nn.Sequential(\n",
        "                nn.Conv2d(in_planes, self.expansion*planes,\n",
        "                          kernel_size=1, stride=stride, bias=False),\n",
        "                nn.BatchNorm2d(self.expansion*planes)\n",
        "            )\n",
        "\n",
        "    def forward(self, x):\n",
        "        out = F.relu(self.bn1(self.conv1(x)))\n",
        "        out = F.relu(self.bn2(self.conv2(out)))\n",
        "        out = self.bn3(self.conv3(out))\n",
        "        out += self.shortcut(x)\n",
        "        out = F.relu(out)\n",
        "        return out\n",
        "\n",
        "\n",
        "class ResNet(nn.Module):\n",
        "    def __init__(self, block, num_blocks, num_classes=10):\n",
        "        super(ResNet, self).__init__()\n",
        "        self.in_planes = 64\n",
        "\n",
        "        self.conv1 = nn.Conv2d(3, 64, kernel_size=3,\n",
        "                               stride=1, padding=1, bias=False)\n",
        "        self.bn1 = nn.BatchNorm2d(64)\n",
        "        self.layer1 = self._make_layer(block, 64, num_blocks[0], stride=1)\n",
        "        self.layer2 = self._make_layer(block, 128, num_blocks[1], stride=2)\n",
        "        self.layer3 = self._make_layer(block, 256, num_blocks[2], stride=2)\n",
        "        self.layer4 = self._make_layer(block, 512, num_blocks[3], stride=2)\n",
        "        self.linear1 = nn.Linear(512*block.expansion, 50)\n",
        "        self.linear2 = nn.Linear(50, num_classes)\n",
        "\n",
        "    def _make_layer(self, block, planes, num_blocks, stride):\n",
        "        strides = [stride] + [1]*(num_blocks-1)\n",
        "        layers = []\n",
        "        for stride in strides:\n",
        "            layers.append(block(self.in_planes, planes, stride))\n",
        "            self.in_planes = planes * block.expansion\n",
        "        return nn.Sequential(*layers)\n",
        "\n",
        "    def forward(self, x):\n",
        "        out = F.relu(self.bn1(self.conv1(x)))\n",
        "        out = self.layer1(out)\n",
        "        out = self.layer2(out)\n",
        "        out = self.layer3(out)\n",
        "        out = self.layer4(out)\n",
        "        out = F.avg_pool2d(out, 4)\n",
        "        out = out.view(out.size(0), -1)\n",
        "        out = self.linear1(out)\n",
        "        out = self.linear2(out)\n",
        "        return out\n",
        "\n",
        "\n",
        "def ResNet18():\n",
        "    return ResNet(BasicBlock, [2, 2, 2, 2])"
      ],
      "metadata": {
        "id": "EDUvllEtjjlJ",
        "cellView": "form"
      },
      "execution_count": 2,
      "outputs": []
    },
    {
      "cell_type": "code",
      "source": [
        "#@title 3. Load the model. Define hooks to extract the neural activity from the network\n",
        "\n",
        "args={}\n",
        "args['batch_size'] = 128\n",
        "args['cuda'] = True # Enabling cuda is required\n",
        "\n",
        "# Instntiate model\n",
        "model = ResNet18()\n",
        "if args['cuda']:\n",
        "    model.cuda()\n",
        "\n",
        "#Load pre-trained model\n",
        "!wget https://deephys.nyc3.digitaloceanspaces.com/colab_deps%2Fcifar_resnet18.pth\n",
        "state_dict = torch.load('colab_deps%2Fcifar_resnet18.pth')\n",
        "model.load_state_dict(state_dict)\n",
        "model.eval() # testing model\n",
        "\n",
        "# Hooks to extract the neural activity from the model\n",
        "model_activity = {}\n",
        "def get_activation(name):\n",
        "  def hook(model, input, output):\n",
        "    model_activity[name] = output.detach()\n",
        "  return hook\n",
        "\n",
        "# We will only pull from the linear1 layer\n",
        "h = model.linear1.register_forward_hook(get_activation('linear1'))"
      ],
      "metadata": {
        "cellView": "form",
        "id": "BZvUqqN9uRmf",
        "outputId": "9c637071-c135-413f-cfd9-f00f97b9f1f1",
        "colab": {
          "base_uri": "https://localhost:8080/"
        }
      },
      "execution_count": 3,
      "outputs": [
        {
          "output_type": "stream",
          "name": "stdout",
          "text": [
            "--2023-02-19 02:38:45--  https://deephys.nyc3.digitaloceanspaces.com/colab_deps%2Fcifar_resnet18.pth\n",
            "Resolving deephys.nyc3.digitaloceanspaces.com (deephys.nyc3.digitaloceanspaces.com)... 162.243.189.2\n",
            "Connecting to deephys.nyc3.digitaloceanspaces.com (deephys.nyc3.digitaloceanspaces.com)|162.243.189.2|:443... connected.\n",
            "HTTP request sent, awaiting response... 200 OK\n",
            "Length: 44858313 (43M) [text/plain]\n",
            "Saving to: ‘colab_deps%2Fcifar_resnet18.pth’\n",
            "\n",
            "colab_deps%2Fcifar_ 100%[===================>]  42.78M  9.82MB/s    in 5.0s    \n",
            "\n",
            "2023-02-19 02:38:51 (8.59 MB/s) - ‘colab_deps%2Fcifar_resnet18.pth’ saved [44858313/44858313]\n",
            "\n"
          ]
        }
      ]
    },
    {
      "cell_type": "code",
      "source": [
        "#@title 4. Define function to extract data from the model to be exported to Deephys \n",
        "\n",
        "def extract_activity(testloader, model):\n",
        "\n",
        "  # All we need for Deephys\n",
        "  dp_images = []\n",
        "  dp_gt = []\n",
        "  dp_activity = {\n",
        "      \"output\": [], \n",
        "      \"linear1\": []\n",
        "  }\n",
        "\n",
        "  # Standard normalization for CIFAR10 versions\n",
        "  normalize = transforms.Normalize((0.4914, 0.4822, 0.4465), (0.2023, 0.1994, 0.2010))\n",
        "  \n",
        "  # Loop across all dataset \n",
        "  for data, target in iter(testloader):\n",
        "\n",
        "      dp_images.append(data)\n",
        "      dp_gt.append(target)\n",
        "\n",
        "      if args['cuda']:\n",
        "        data, target = data.cuda(), target.cuda()\n",
        "\n",
        "      data = normalize(data) # Required to capture activations with normalized data\n",
        "  \n",
        "      with torch.no_grad():\n",
        "        tmp_activity = model(data).detach().cpu()\n",
        "        dp_activity['output'].append(tmp_activity)\n",
        "        tmp_activity = F.relu(model_activity['linear1']).detach().cpu()\n",
        "        dp_activity['linear1'].append(tmp_activity)\n",
        "\n",
        "  # Convert torch tensors to numpy\n",
        "  for layer in dp_activity:\n",
        "        dp_activity[layer] = torch.cat(dp_activity[layer]).numpy()\n",
        "\n",
        "  dp_images = torch.cat(dp_images).numpy()\n",
        "  dp_gt = torch.cat(dp_gt).numpy()\n",
        "\n",
        "  return dp_images, dp_gt, dp_activity"
      ],
      "metadata": {
        "id": "-Dsk0gN9to8i"
      },
      "execution_count": 4,
      "outputs": []
    },
    {
      "cell_type": "code",
      "source": [
        "#@title 5. Deephys model\n",
        "\n",
        "import deephys as dp\n",
        "\n",
        "classes = ['plane', 'car', 'bird', 'cat',\n",
        "           'deer', 'dog', 'frog', 'horse', 'ship', 'truck']\n",
        "\n",
        "dp_model = dp.model(\n",
        "    name = \"resnet18_cifar\",\n",
        "    layers = {\n",
        "        \"linear1\": model.linear1.out_features,\n",
        "        \"output\": len(classes)\n",
        "    },\n",
        "    classification_layer=\"output\"\n",
        ")\n",
        "\n",
        "dp_model.save()"
      ],
      "metadata": {
        "id": "bcEBrF-WYOKI",
        "colab": {
          "base_uri": "https://localhost:8080/"
        },
        "outputId": "dae7516d-31ef-4a61-fd31-1e5e0714226c"
      },
      "execution_count": 5,
      "outputs": [
        {
          "output_type": "stream",
          "name": "stdout",
          "text": [
            "Saving data to resnet18_cifar.model...\n",
            "done saving data to resnet18_cifar.model\n"
          ]
        }
      ]
    },
    {
      "cell_type": "code",
      "source": [
        "#@title 6. Export data from CIFAR to Deephys\n",
        "\n",
        "# CIFAR\n",
        "transform_test = transforms.Compose([transforms.ToTensor(),])\n",
        "testset = torchvision.datasets.CIFAR10(root='./data', train=False,\n",
        "                                       download=True, transform=transform_test)\n",
        "testloader = torch.utils.data.DataLoader(testset, batch_size=args['batch_size'],\n",
        "                                         shuffle=False, num_workers=2)\n",
        "\n",
        "cifar_images, cifar_gt, cifar_activity = extract_activity(testloader, model)\n",
        "\n",
        "\n",
        "# To Deephys\n",
        "dataset_activity = dp.dataset_activity(\n",
        "    name = \"CIFAR10\",\n",
        "    category_names = classes,\n",
        "    images = cifar_images,\n",
        "    groundtruth = cifar_gt,\n",
        "    neural_activity = cifar_activity,\n",
        "    model=dp_model,\n",
        "    )\n",
        "dataset_activity.save()"
      ],
      "metadata": {
        "colab": {
          "base_uri": "https://localhost:8080/",
          "height": 156,
          "referenced_widgets": [
            "55cc2ee4025d4cf5a808e857d98c08b5",
            "39472a4be3f1417b81104f19ab77075e",
            "dfb3687803464e8ca7d4989c53ec3ab1",
            "53c7c49b8e1f4fa19f6543b58e102734",
            "e7db8887a7c54362b195736b6fcacf3f",
            "87195026f3ab46a3b6d7eb4c52adc983",
            "12ee372b9aa345d781e42d60f2ad9509",
            "e2f135ad25e1429ca57dc64418895a51",
            "d7f09eb767b74cd49f1b29f441b456f6",
            "a9388bd2d2984258a9f231233f2ee038",
            "514559f7af9c4b01a1496c95f572ccb2"
          ]
        },
        "id": "_T1aUw521fob",
        "outputId": "170def89-cf6d-46e9-c778-e0cdb754aacb"
      },
      "execution_count": 6,
      "outputs": [
        {
          "output_type": "stream",
          "name": "stdout",
          "text": [
            "Downloading https://www.cs.toronto.edu/~kriz/cifar-10-python.tar.gz to ./data/cifar-10-python.tar.gz\n"
          ]
        },
        {
          "output_type": "display_data",
          "data": {
            "text/plain": [
              "  0%|          | 0/170498071 [00:00<?, ?it/s]"
            ],
            "application/vnd.jupyter.widget-view+json": {
              "version_major": 2,
              "version_minor": 0,
              "model_id": "55cc2ee4025d4cf5a808e857d98c08b5"
            }
          },
          "metadata": {}
        },
        {
          "output_type": "stream",
          "name": "stdout",
          "text": [
            "Extracting ./data/cifar-10-python.tar.gz to ./data\n",
            "Preparing data...\n"
          ]
        },
        {
          "output_type": "stream",
          "name": "stderr",
          "text": [
            "100%|██████████| 10000/10000 [00:02<00:00, 4326.54it/s]\n"
          ]
        },
        {
          "output_type": "stream",
          "name": "stdout",
          "text": [
            "Saving data to CIFAR10.test...\n",
            "done saving data to CIFAR10.test\n"
          ]
        }
      ]
    },
    {
      "cell_type": "code",
      "source": [
        "#@title 7. Export data from CIFAR2 to Deephys\n",
        "\n",
        "# CIFAR 2\n",
        "!wget https://deephys.nyc3.digitaloceanspaces.com/colab_deps%2Fcifar102_train.npz\n",
        "testset2 = np.load('colab_deps%2Fcifar102_train.npz')\n",
        "images2 = np.transpose(testset2['images'], (0, 3, 1, 2))/255. #Required before the images can be fed to the model\n",
        "tensor_testset2 = TensorDataset(torch.FloatTensor(images2), torch.LongTensor(testset2['labels']))\n",
        "testloader2 = torch.utils.data.DataLoader(tensor_testset2,\n",
        "    batch_size=args['batch_size'], shuffle=False)\n",
        "\n",
        "cifar2_images, cifar2_gt, cifar2_activity = extract_activity(testloader2, model)\n",
        "\n",
        "\n",
        "# To Deephys\n",
        "dataset_activity = dp.dataset_activity(\n",
        "    name = \"CIFAR10.2\",\n",
        "    category_names = classes,\n",
        "    images = cifar2_images,\n",
        "    groundtruth = cifar2_gt,\n",
        "    neural_activity = cifar2_activity,\n",
        "    model=dp_model,\n",
        "    )\n",
        "dataset_activity.save()"
      ],
      "metadata": {
        "id": "fXw9BgDdmTZs",
        "colab": {
          "base_uri": "https://localhost:8080/"
        },
        "outputId": "ee4503af-dfff-40c3-c1c3-e1675cf8f619"
      },
      "execution_count": 7,
      "outputs": [
        {
          "output_type": "stream",
          "name": "stdout",
          "text": [
            "--2023-02-19 02:39:22--  https://deephys.nyc3.digitaloceanspaces.com/colab_deps%2Fcifar102_train.npz\n",
            "Resolving deephys.nyc3.digitaloceanspaces.com (deephys.nyc3.digitaloceanspaces.com)... 162.243.189.2\n",
            "Connecting to deephys.nyc3.digitaloceanspaces.com (deephys.nyc3.digitaloceanspaces.com)|162.243.189.2|:443... connected.\n",
            "HTTP request sent, awaiting response... 200 OK\n",
            "Length: 31961664 (30M) [text/plain]\n",
            "Saving to: ‘colab_deps%2Fcifar102_train.npz’\n",
            "\n",
            "colab_deps%2Fcifar1 100%[===================>]  30.48M  8.83MB/s    in 3.5s    \n",
            "\n",
            "2023-02-19 02:39:26 (8.83 MB/s) - ‘colab_deps%2Fcifar102_train.npz’ saved [31961664/31961664]\n",
            "\n",
            "Preparing data...\n"
          ]
        },
        {
          "output_type": "stream",
          "name": "stderr",
          "text": [
            "100%|██████████| 10000/10000 [00:02<00:00, 3698.19it/s]\n"
          ]
        },
        {
          "output_type": "stream",
          "name": "stdout",
          "text": [
            "Saving data to CIFAR10.2.test...\n",
            "done saving data to CIFAR10.2.test\n"
          ]
        }
      ]
    },
    {
      "cell_type": "markdown",
      "source": [
        "# Novelty and Spurious Scores\n",
        "\n"
      ],
      "metadata": {
        "id": "wf4MLawrka8U"
      }
    },
    {
      "cell_type": "code",
      "source": [
        "#@title Normalize and get average firing rates per category\n",
        "\n",
        "num_neurons = model.linear1.out_features\n",
        "num_classes = len(classes)\n",
        "\n",
        "# Normalize each neuron with the maximum firign rate\n",
        "norm = np.max(cifar_activity[\"linear1\"], axis=0)\n",
        "cifar_activity[\"linear1\"] /= norm\n",
        "cifar2_activity[\"linear1\"] /= norm\n",
        "\n",
        "\n",
        "# Average scores for every concept across all images\n",
        "Y = np.array([np.mean(cifar_activity[\"linear1\"][np.where(cifar_gt == c)[0], :], axis=0) \n",
        "          for c in range(num_classes)]) #CIFAR\n",
        "\n",
        "Y2 = np.array([np.mean(cifar2_activity[\"linear1\"][np.where(cifar2_gt == c)[0], :], axis=0) \n",
        "          for c in range(num_classes)]) #CIFAR 2"
      ],
      "metadata": {
        "id": "oFzDzNi0_IYV"
      },
      "execution_count": 8,
      "outputs": []
    },
    {
      "cell_type": "code",
      "source": [
        "#@title Calculate Spurious and Novelty scores\n",
        "\n",
        "from scipy.stats.mstats import spearmanr\n",
        "import pandas as pd\n",
        "\n",
        "def Spurious_Score(avg_acts_1, avg_acts_2):\n",
        "    # Spearman's rank correlation calculation\n",
        "    spearman_corr = [1-abs(spearmanr(avg_acts_1[:, i], avg_acts_2[:, i])[0])\n",
        "          for i in range(len(avg_acts_1[0]))]\n",
        "    \n",
        "    return spearman_corr\n",
        "\n",
        "def Novelty_Score(avg_acts_1, avg_acts_2):\n",
        "  # Difference between maximimum firing rates\n",
        "  max_c = np.max(avg_acts_1, axis=0)\n",
        "  max_c_per = np.max(avg_acts_2, axis=0)\n",
        "\n",
        "  dis_c_per = list(max_c - max_c_per)\n",
        "  return dis_c_per\n",
        "\n",
        "\n",
        "# Calculate and store in dataframe\n",
        "spurious = Spurious_Score(Y, Y2)\n",
        "novelty = Novelty_Score(Y, Y2)\n",
        "\n",
        "df = pd.DataFrame({\n",
        "  'Spurious': spurious,\n",
        "  'Novelty': novelty\n",
        "})"
      ],
      "metadata": {
        "id": "vh5AO6b9Ip3H"
      },
      "execution_count": 9,
      "outputs": []
    },
    {
      "cell_type": "code",
      "source": [
        "#@title Plot scores\n",
        "\n",
        "import matplotlib.pyplot as plt\n",
        "import seaborn as sns\n",
        "\n",
        "sns.set(style=\"ticks\")\n",
        "sns.set_context(\"poster\")\n",
        "\n",
        "\n",
        "fig, axes = plt.subplots(1, 2, figsize = (15, 10))\n",
        "fig.suptitle('Category wise average concept activations')\n",
        "fig = sns.heatmap(Y, ax=axes[0], vmin=0, vmax=1)\n",
        "fig = sns.heatmap(Y2, ax=axes[1], vmin=0, vmax=1)\n",
        "\n",
        "axes[0].set_title('CIFAR10')\n",
        "axes[1].set_title('CIFAR10.2')\n",
        "\n",
        "\n",
        "fig, axes = plt.subplots(1, 1, figsize = (5, 5))\n",
        "fig = sns.kdeplot(df['Spurious'], shade=True, color=\"r\")\n",
        "plt.xlim(0, 1)\n",
        "axes.set_xlabel('Spurious score')\n",
        "\n",
        "plt.show()\n",
        "g = fig.figure\n",
        "g.savefig(\"CIFAR_spurious.pdf\", bbox_inches='tight')\n",
        "\n",
        "fig, axes = plt.subplots(1, 1, figsize = (5, 5))\n",
        "fig = sns.kdeplot(df['Novelty'], shade=True, color=\"r\")\n",
        "plt.xlim(0, 1)\n",
        "plt.gca().legend(('CIFAR10.2',), loc =\"upper right\")\n",
        "axes.set_xlabel('Novelty score')\n",
        "\n",
        "plt.show()\n",
        "g = fig.figure\n",
        "g.savefig(\"CIFAR_novelty.pdf\", bbox_inches='tight')"
      ],
      "metadata": {
        "id": "65mX5ai4ITgG",
        "colab": {
          "base_uri": "https://localhost:8080/",
          "height": 1000
        },
        "outputId": "4daec6ca-aedd-4f9e-fd50-b8bffce2e9cc"
      },
      "execution_count": 10,
      "outputs": [
        {
          "output_type": "display_data",
          "data": {
            "text/plain": [
              "<Figure size 1080x720 with 4 Axes>"
            ],
            "image/png": "[encoded data removed]"
          },
          "metadata": {}
        },
        {
          "output_type": "display_data",
          "data": {
            "text/plain": [
              "<Figure size 360x360 with 1 Axes>"
            ],
            "image/png": "[encoded data removed]"
          },
          "metadata": {}
        },
        {
          "output_type": "display_data",
          "data": {
            "text/plain": [
              "<Figure size 360x360 with 1 Axes>"
            ],
            "image/png": "[encoded data removed]"
          },
          "metadata": {}
        }
      ]
    }
  ]
}