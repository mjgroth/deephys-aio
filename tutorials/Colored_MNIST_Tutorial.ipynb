{
  "nbformat": 4,
  "nbformat_minor": 0,
  "metadata": {
    "colab": {
      "provenance": [],
      "collapsed_sections": [
        "Ky2zpklwpN1W",
        "GpmXD_MSpd7I"
      ],
      "include_colab_link": true
    },
    "kernelspec": {
      "name": "python3",
      "display_name": "Python 3"
    },
    "language_info": {
      "name": "python"
    },
    "accelerator": "GPU",
    "widgets": {
      "application/vnd.jupyter.widget-state+json": {
        "73564c4af0f0415dbeed3f7566389b16": {
          "model_module": "@jupyter-widgets/controls",
          "model_name": "HBoxModel",
          "model_module_version": "1.5.0",
          "state": {
            "_dom_classes": [],
            "_model_module": "@jupyter-widgets/controls",
            "_model_module_version": "1.5.0",
            "_model_name": "HBoxModel",
            "_view_count": null,
            "_view_module": "@jupyter-widgets/controls",
            "_view_module_version": "1.5.0",
            "_view_name": "HBoxView",
            "box_style": "",
            "children": [
              "IPY_MODEL_4d6abbd02c324649a09e67e1b682fc65",
              "IPY_MODEL_572294b30ce74f3b8c2d86bea032b993",
              "IPY_MODEL_7b1f187998264c1db49b5b79ae24609c"
            ],
            "layout": "IPY_MODEL_d95d91b65a87408cb87cdea5aed146d6"
          }
        },
        "4d6abbd02c324649a09e67e1b682fc65": {
          "model_module": "@jupyter-widgets/controls",
          "model_name": "HTMLModel",
          "model_module_version": "1.5.0",
          "state": {
            "_dom_classes": [],
            "_model_module": "@jupyter-widgets/controls",
            "_model_module_version": "1.5.0",
            "_model_name": "HTMLModel",
            "_view_count": null,
            "_view_module": "@jupyter-widgets/controls",
            "_view_module_version": "1.5.0",
            "_view_name": "HTMLView",
            "description": "",
            "description_tooltip": null,
            "layout": "IPY_MODEL_aa1bd5b4fdd149a5b086642641eaa523",
            "placeholder": "​",
            "style": "IPY_MODEL_7f6df0f9145b484ba7371b5e48b7741b",
            "value": "100%"
          }
        },
        "572294b30ce74f3b8c2d86bea032b993": {
          "model_module": "@jupyter-widgets/controls",
          "model_name": "FloatProgressModel",
          "model_module_version": "1.5.0",
          "state": {
            "_dom_classes": [],
            "_model_module": "@jupyter-widgets/controls",
            "_model_module_version": "1.5.0",
            "_model_name": "FloatProgressModel",
            "_view_count": null,
            "_view_module": "@jupyter-widgets/controls",
            "_view_module_version": "1.5.0",
            "_view_name": "ProgressView",
            "bar_style": "success",
            "description": "",
            "description_tooltip": null,
            "layout": "IPY_MODEL_71bb7895947c4cffa559d38bc4a5125c",
            "max": 9912422,
            "min": 0,
            "orientation": "horizontal",
            "style": "IPY_MODEL_1c4ee9ecee684cf282d3de6d98a85b28",
            "value": 9912422
          }
        },
        "7b1f187998264c1db49b5b79ae24609c": {
          "model_module": "@jupyter-widgets/controls",
          "model_name": "HTMLModel",
          "model_module_version": "1.5.0",
          "state": {
            "_dom_classes": [],
            "_model_module": "@jupyter-widgets/controls",
            "_model_module_version": "1.5.0",
            "_model_name": "HTMLModel",
            "_view_count": null,
            "_view_module": "@jupyter-widgets/controls",
            "_view_module_version": "1.5.0",
            "_view_name": "HTMLView",
            "description": "",
            "description_tooltip": null,
            "layout": "IPY_MODEL_3961dff5e78d485fb0707e7314519f57",
            "placeholder": "​",
            "style": "IPY_MODEL_61755ff1ba3b412881ca0eeb383c6daf",
            "value": " 9912422/9912422 [00:00&lt;00:00, 246399407.61it/s]"
          }
        },
        "d95d91b65a87408cb87cdea5aed146d6": {
          "model_module": "@jupyter-widgets/base",
          "model_name": "LayoutModel",
          "model_module_version": "1.2.0",
          "state": {
            "_model_module": "@jupyter-widgets/base",
            "_model_module_version": "1.2.0",
            "_model_name": "LayoutModel",
            "_view_count": null,
            "_view_module": "@jupyter-widgets/base",
            "_view_module_version": "1.2.0",
            "_view_name": "LayoutView",
            "align_content": null,
            "align_items": null,
            "align_self": null,
            "border": null,
            "bottom": null,
            "display": null,
            "flex": null,
            "flex_flow": null,
            "grid_area": null,
            "grid_auto_columns": null,
            "grid_auto_flow": null,
            "grid_auto_rows": null,
            "grid_column": null,
            "grid_gap": null,
            "grid_row": null,
            "grid_template_areas": null,
            "grid_template_columns": null,
            "grid_template_rows": null,
            "height": null,
            "justify_content": null,
            "justify_items": null,
            "left": null,
            "margin": null,
            "max_height": null,
            "max_width": null,
            "min_height": null,
            "min_width": null,
            "object_fit": null,
            "object_position": null,
            "order": null,
            "overflow": null,
            "overflow_x": null,
            "overflow_y": null,
            "padding": null,
            "right": null,
            "top": null,
            "visibility": null,
            "width": null
          }
        },
        "aa1bd5b4fdd149a5b086642641eaa523": {
          "model_module": "@jupyter-widgets/base",
          "model_name": "LayoutModel",
          "model_module_version": "1.2.0",
          "state": {
            "_model_module": "@jupyter-widgets/base",
            "_model_module_version": "1.2.0",
            "_model_name": "LayoutModel",
            "_view_count": null,
            "_view_module": "@jupyter-widgets/base",
            "_view_module_version": "1.2.0",
            "_view_name": "LayoutView",
            "align_content": null,
            "align_items": null,
            "align_self": null,
            "border": null,
            "bottom": null,
            "display": null,
            "flex": null,
            "flex_flow": null,
            "grid_area": null,
            "grid_auto_columns": null,
            "grid_auto_flow": null,
            "grid_auto_rows": null,
            "grid_column": null,
            "grid_gap": null,
            "grid_row": null,
            "grid_template_areas": null,
            "grid_template_columns": null,
            "grid_template_rows": null,
            "height": null,
            "justify_content": null,
            "justify_items": null,
            "left": null,
            "margin": null,
            "max_height": null,
            "max_width": null,
            "min_height": null,
            "min_width": null,
            "object_fit": null,
            "object_position": null,
            "order": null,
            "overflow": null,
            "overflow_x": null,
            "overflow_y": null,
            "padding": null,
            "right": null,
            "top": null,
            "visibility": null,
            "width": null
          }
        },
        "7f6df0f9145b484ba7371b5e48b7741b": {
          "model_module": "@jupyter-widgets/controls",
          "model_name": "DescriptionStyleModel",
          "model_module_version": "1.5.0",
          "state": {
            "_model_module": "@jupyter-widgets/controls",
            "_model_module_version": "1.5.0",
            "_model_name": "DescriptionStyleModel",
            "_view_count": null,
            "_view_module": "@jupyter-widgets/base",
            "_view_module_version": "1.2.0",
            "_view_name": "StyleView",
            "description_width": ""
          }
        },
        "71bb7895947c4cffa559d38bc4a5125c": {
          "model_module": "@jupyter-widgets/base",
          "model_name": "LayoutModel",
          "model_module_version": "1.2.0",
          "state": {
            "_model_module": "@jupyter-widgets/base",
            "_model_module_version": "1.2.0",
            "_model_name": "LayoutModel",
            "_view_count": null,
            "_view_module": "@jupyter-widgets/base",
            "_view_module_version": "1.2.0",
            "_view_name": "LayoutView",
            "align_content": null,
            "align_items": null,
            "align_self": null,
            "border": null,
            "bottom": null,
            "display": null,
            "flex": null,
            "flex_flow": null,
            "grid_area": null,
            "grid_auto_columns": null,
            "grid_auto_flow": null,
            "grid_auto_rows": null,
            "grid_column": null,
            "grid_gap": null,
            "grid_row": null,
            "grid_template_areas": null,
            "grid_template_columns": null,
            "grid_template_rows": null,
            "height": null,
            "justify_content": null,
            "justify_items": null,
            "left": null,
            "margin": null,
            "max_height": null,
            "max_width": null,
            "min_height": null,
            "min_width": null,
            "object_fit": null,
            "object_position": null,
            "order": null,
            "overflow": null,
            "overflow_x": null,
            "overflow_y": null,
            "padding": null,
            "right": null,
            "top": null,
            "visibility": null,
            "width": null
          }
        },
        "1c4ee9ecee684cf282d3de6d98a85b28": {
          "model_module": "@jupyter-widgets/controls",
          "model_name": "ProgressStyleModel",
          "model_module_version": "1.5.0",
          "state": {
            "_model_module": "@jupyter-widgets/controls",
            "_model_module_version": "1.5.0",
            "_model_name": "ProgressStyleModel",
            "_view_count": null,
            "_view_module": "@jupyter-widgets/base",
            "_view_module_version": "1.2.0",
            "_view_name": "StyleView",
            "bar_color": null,
            "description_width": ""
          }
        },
        "3961dff5e78d485fb0707e7314519f57": {
          "model_module": "@jupyter-widgets/base",
          "model_name": "LayoutModel",
          "model_module_version": "1.2.0",
          "state": {
            "_model_module": "@jupyter-widgets/base",
            "_model_module_version": "1.2.0",
            "_model_name": "LayoutModel",
            "_view_count": null,
            "_view_module": "@jupyter-widgets/base",
            "_view_module_version": "1.2.0",
            "_view_name": "LayoutView",
            "align_content": null,
            "align_items": null,
            "align_self": null,
            "border": null,
            "bottom": null,
            "display": null,
            "flex": null,
            "flex_flow": null,
            "grid_area": null,
            "grid_auto_columns": null,
            "grid_auto_flow": null,
            "grid_auto_rows": null,
            "grid_column": null,
            "grid_gap": null,
            "grid_row": null,
            "grid_template_areas": null,
            "grid_template_columns": null,
            "grid_template_rows": null,
            "height": null,
            "justify_content": null,
            "justify_items": null,
            "left": null,
            "margin": null,
            "max_height": null,
            "max_width": null,
            "min_height": null,
            "min_width": null,
            "object_fit": null,
            "object_position": null,
            "order": null,
            "overflow": null,
            "overflow_x": null,
            "overflow_y": null,
            "padding": null,
            "right": null,
            "top": null,
            "visibility": null,
            "width": null
          }
        },
        "61755ff1ba3b412881ca0eeb383c6daf": {
          "model_module": "@jupyter-widgets/controls",
          "model_name": "DescriptionStyleModel",
          "model_module_version": "1.5.0",
          "state": {
            "_model_module": "@jupyter-widgets/controls",
            "_model_module_version": "1.5.0",
            "_model_name": "DescriptionStyleModel",
            "_view_count": null,
            "_view_module": "@jupyter-widgets/base",
            "_view_module_version": "1.2.0",
            "_view_name": "StyleView",
            "description_width": ""
          }
        },
        "1ff12bd53866417eaf44ba68313c6e5d": {
          "model_module": "@jupyter-widgets/controls",
          "model_name": "HBoxModel",
          "model_module_version": "1.5.0",
          "state": {
            "_dom_classes": [],
            "_model_module": "@jupyter-widgets/controls",
            "_model_module_version": "1.5.0",
            "_model_name": "HBoxModel",
            "_view_count": null,
            "_view_module": "@jupyter-widgets/controls",
            "_view_module_version": "1.5.0",
            "_view_name": "HBoxView",
            "box_style": "",
            "children": [
              "IPY_MODEL_c5b260bc07484670872cdde77207413e",
              "IPY_MODEL_2b99a2a5993b49a898068ca0910e9a57",
              "IPY_MODEL_adb4b7287ade4d9787855f186630dfe5"
            ],
            "layout": "IPY_MODEL_59e5dac52cdf4eab9130e1221d459b19"
          }
        },
        "c5b260bc07484670872cdde77207413e": {
          "model_module": "@jupyter-widgets/controls",
          "model_name": "HTMLModel",
          "model_module_version": "1.5.0",
          "state": {
            "_dom_classes": [],
            "_model_module": "@jupyter-widgets/controls",
            "_model_module_version": "1.5.0",
            "_model_name": "HTMLModel",
            "_view_count": null,
            "_view_module": "@jupyter-widgets/controls",
            "_view_module_version": "1.5.0",
            "_view_name": "HTMLView",
            "description": "",
            "description_tooltip": null,
            "layout": "IPY_MODEL_8935fbed5c07490e8d0cdd71e03bd6e9",
            "placeholder": "​",
            "style": "IPY_MODEL_05299e77f9094afba17f9dca897d46d9",
            "value": "100%"
          }
        },
        "2b99a2a5993b49a898068ca0910e9a57": {
          "model_module": "@jupyter-widgets/controls",
          "model_name": "FloatProgressModel",
          "model_module_version": "1.5.0",
          "state": {
            "_dom_classes": [],
            "_model_module": "@jupyter-widgets/controls",
            "_model_module_version": "1.5.0",
            "_model_name": "FloatProgressModel",
            "_view_count": null,
            "_view_module": "@jupyter-widgets/controls",
            "_view_module_version": "1.5.0",
            "_view_name": "ProgressView",
            "bar_style": "success",
            "description": "",
            "description_tooltip": null,
            "layout": "IPY_MODEL_9e8ae76b7c5546d4a3fc62b6b72b0586",
            "max": 28881,
            "min": 0,
            "orientation": "horizontal",
            "style": "IPY_MODEL_e5dba9810ce14b68bcf1eea37525060b",
            "value": 28881
          }
        },
        "adb4b7287ade4d9787855f186630dfe5": {
          "model_module": "@jupyter-widgets/controls",
          "model_name": "HTMLModel",
          "model_module_version": "1.5.0",
          "state": {
            "_dom_classes": [],
            "_model_module": "@jupyter-widgets/controls",
            "_model_module_version": "1.5.0",
            "_model_name": "HTMLModel",
            "_view_count": null,
            "_view_module": "@jupyter-widgets/controls",
            "_view_module_version": "1.5.0",
            "_view_name": "HTMLView",
            "description": "",
            "description_tooltip": null,
            "layout": "IPY_MODEL_63e89113e2e9418881e2afd949bd1f6e",
            "placeholder": "​",
            "style": "IPY_MODEL_bcae122c70094cf58f158af8ef92b617",
            "value": " 28881/28881 [00:00&lt;00:00, 2216004.94it/s]"
          }
        },
        "59e5dac52cdf4eab9130e1221d459b19": {
          "model_module": "@jupyter-widgets/base",
          "model_name": "LayoutModel",
          "model_module_version": "1.2.0",
          "state": {
            "_model_module": "@jupyter-widgets/base",
            "_model_module_version": "1.2.0",
            "_model_name": "LayoutModel",
            "_view_count": null,
            "_view_module": "@jupyter-widgets/base",
            "_view_module_version": "1.2.0",
            "_view_name": "LayoutView",
            "align_content": null,
            "align_items": null,
            "align_self": null,
            "border": null,
            "bottom": null,
            "display": null,
            "flex": null,
            "flex_flow": null,
            "grid_area": null,
            "grid_auto_columns": null,
            "grid_auto_flow": null,
            "grid_auto_rows": null,
            "grid_column": null,
            "grid_gap": null,
            "grid_row": null,
            "grid_template_areas": null,
            "grid_template_columns": null,
            "grid_template_rows": null,
            "height": null,
            "justify_content": null,
            "justify_items": null,
            "left": null,
            "margin": null,
            "max_height": null,
            "max_width": null,
            "min_height": null,
            "min_width": null,
            "object_fit": null,
            "object_position": null,
            "order": null,
            "overflow": null,
            "overflow_x": null,
            "overflow_y": null,
            "padding": null,
            "right": null,
            "top": null,
            "visibility": null,
            "width": null
          }
        },
        "8935fbed5c07490e8d0cdd71e03bd6e9": {
          "model_module": "@jupyter-widgets/base",
          "model_name": "LayoutModel",
          "model_module_version": "1.2.0",
          "state": {
            "_model_module": "@jupyter-widgets/base",
            "_model_module_version": "1.2.0",
            "_model_name": "LayoutModel",
            "_view_count": null,
            "_view_module": "@jupyter-widgets/base",
            "_view_module_version": "1.2.0",
            "_view_name": "LayoutView",
            "align_content": null,
            "align_items": null,
            "align_self": null,
            "border": null,
            "bottom": null,
            "display": null,
            "flex": null,
            "flex_flow": null,
            "grid_area": null,
            "grid_auto_columns": null,
            "grid_auto_flow": null,
            "grid_auto_rows": null,
            "grid_column": null,
            "grid_gap": null,
            "grid_row": null,
            "grid_template_areas": null,
            "grid_template_columns": null,
            "grid_template_rows": null,
            "height": null,
            "justify_content": null,
            "justify_items": null,
            "left": null,
            "margin": null,
            "max_height": null,
            "max_width": null,
            "min_height": null,
            "min_width": null,
            "object_fit": null,
            "object_position": null,
            "order": null,
            "overflow": null,
            "overflow_x": null,
            "overflow_y": null,
            "padding": null,
            "right": null,
            "top": null,
            "visibility": null,
            "width": null
          }
        },
        "05299e77f9094afba17f9dca897d46d9": {
          "model_module": "@jupyter-widgets/controls",
          "model_name": "DescriptionStyleModel",
          "model_module_version": "1.5.0",
          "state": {
            "_model_module": "@jupyter-widgets/controls",
            "_model_module_version": "1.5.0",
            "_model_name": "DescriptionStyleModel",
            "_view_count": null,
            "_view_module": "@jupyter-widgets/base",
            "_view_module_version": "1.2.0",
            "_view_name": "StyleView",
            "description_width": ""
          }
        },
        "9e8ae76b7c5546d4a3fc62b6b72b0586": {
          "model_module": "@jupyter-widgets/base",
          "model_name": "LayoutModel",
          "model_module_version": "1.2.0",
          "state": {
            "_model_module": "@jupyter-widgets/base",
            "_model_module_version": "1.2.0",
            "_model_name": "LayoutModel",
            "_view_count": null,
            "_view_module": "@jupyter-widgets/base",
            "_view_module_version": "1.2.0",
            "_view_name": "LayoutView",
            "align_content": null,
            "align_items": null,
            "align_self": null,
            "border": null,
            "bottom": null,
            "display": null,
            "flex": null,
            "flex_flow": null,
            "grid_area": null,
            "grid_auto_columns": null,
            "grid_auto_flow": null,
            "grid_auto_rows": null,
            "grid_column": null,
            "grid_gap": null,
            "grid_row": null,
            "grid_template_areas": null,
            "grid_template_columns": null,
            "grid_template_rows": null,
            "height": null,
            "justify_content": null,
            "justify_items": null,
            "left": null,
            "margin": null,
            "max_height": null,
            "max_width": null,
            "min_height": null,
            "min_width": null,
            "object_fit": null,
            "object_position": null,
            "order": null,
            "overflow": null,
            "overflow_x": null,
            "overflow_y": null,
            "padding": null,
            "right": null,
            "top": null,
            "visibility": null,
            "width": null
          }
        },
        "e5dba9810ce14b68bcf1eea37525060b": {
          "model_module": "@jupyter-widgets/controls",
          "model_name": "ProgressStyleModel",
          "model_module_version": "1.5.0",
          "state": {
            "_model_module": "@jupyter-widgets/controls",
            "_model_module_version": "1.5.0",
            "_model_name": "ProgressStyleModel",
            "_view_count": null,
            "_view_module": "@jupyter-widgets/base",
            "_view_module_version": "1.2.0",
            "_view_name": "StyleView",
            "bar_color": null,
            "description_width": ""
          }
        },
        "63e89113e2e9418881e2afd949bd1f6e": {
          "model_module": "@jupyter-widgets/base",
          "model_name": "LayoutModel",
          "model_module_version": "1.2.0",
          "state": {
            "_model_module": "@jupyter-widgets/base",
            "_model_module_version": "1.2.0",
            "_model_name": "LayoutModel",
            "_view_count": null,
            "_view_module": "@jupyter-widgets/base",
            "_view_module_version": "1.2.0",
            "_view_name": "LayoutView",
            "align_content": null,
            "align_items": null,
            "align_self": null,
            "border": null,
            "bottom": null,
            "display": null,
            "flex": null,
            "flex_flow": null,
            "grid_area": null,
            "grid_auto_columns": null,
            "grid_auto_flow": null,
            "grid_auto_rows": null,
            "grid_column": null,
            "grid_gap": null,
            "grid_row": null,
            "grid_template_areas": null,
            "grid_template_columns": null,
            "grid_template_rows": null,
            "height": null,
            "justify_content": null,
            "justify_items": null,
            "left": null,
            "margin": null,
            "max_height": null,
            "max_width": null,
            "min_height": null,
            "min_width": null,
            "object_fit": null,
            "object_position": null,
            "order": null,
            "overflow": null,
            "overflow_x": null,
            "overflow_y": null,
            "padding": null,
            "right": null,
            "top": null,
            "visibility": null,
            "width": null
          }
        },
        "bcae122c70094cf58f158af8ef92b617": {
          "model_module": "@jupyter-widgets/controls",
          "model_name": "DescriptionStyleModel",
          "model_module_version": "1.5.0",
          "state": {
            "_model_module": "@jupyter-widgets/controls",
            "_model_module_version": "1.5.0",
            "_model_name": "DescriptionStyleModel",
            "_view_count": null,
            "_view_module": "@jupyter-widgets/base",
            "_view_module_version": "1.2.0",
            "_view_name": "StyleView",
            "description_width": ""
          }
        },
        "743880754db04f6ba7b5738ca86c1503": {
          "model_module": "@jupyter-widgets/controls",
          "model_name": "HBoxModel",
          "model_module_version": "1.5.0",
          "state": {
            "_dom_classes": [],
            "_model_module": "@jupyter-widgets/controls",
            "_model_module_version": "1.5.0",
            "_model_name": "HBoxModel",
            "_view_count": null,
            "_view_module": "@jupyter-widgets/controls",
            "_view_module_version": "1.5.0",
            "_view_name": "HBoxView",
            "box_style": "",
            "children": [
              "IPY_MODEL_ff81a0ad9d174157a06bf9391457c87c",
              "IPY_MODEL_76768543d9d34abd92d1d886941450dc",
              "IPY_MODEL_b81adc83be434d71b27374fc368b2c1e"
            ],
            "layout": "IPY_MODEL_15e229b5bef448a882be67f8c3b3aafe"
          }
        },
        "ff81a0ad9d174157a06bf9391457c87c": {
          "model_module": "@jupyter-widgets/controls",
          "model_name": "HTMLModel",
          "model_module_version": "1.5.0",
          "state": {
            "_dom_classes": [],
            "_model_module": "@jupyter-widgets/controls",
            "_model_module_version": "1.5.0",
            "_model_name": "HTMLModel",
            "_view_count": null,
            "_view_module": "@jupyter-widgets/controls",
            "_view_module_version": "1.5.0",
            "_view_name": "HTMLView",
            "description": "",
            "description_tooltip": null,
            "layout": "IPY_MODEL_4cd01b581ac74fa99b1b6c5c62e4d1a7",
            "placeholder": "​",
            "style": "IPY_MODEL_ce673ad09c0642a6a94cb74d5a536537",
            "value": "100%"
          }
        },
        "76768543d9d34abd92d1d886941450dc": {
          "model_module": "@jupyter-widgets/controls",
          "model_name": "FloatProgressModel",
          "model_module_version": "1.5.0",
          "state": {
            "_dom_classes": [],
            "_model_module": "@jupyter-widgets/controls",
            "_model_module_version": "1.5.0",
            "_model_name": "FloatProgressModel",
            "_view_count": null,
            "_view_module": "@jupyter-widgets/controls",
            "_view_module_version": "1.5.0",
            "_view_name": "ProgressView",
            "bar_style": "success",
            "description": "",
            "description_tooltip": null,
            "layout": "IPY_MODEL_42d3d3f070754524bd2616f9ae628a0d",
            "max": 1648877,
            "min": 0,
            "orientation": "horizontal",
            "style": "IPY_MODEL_51c6fd819cd04dffa58051e360234557",
            "value": 1648877
          }
        },
        "b81adc83be434d71b27374fc368b2c1e": {
          "model_module": "@jupyter-widgets/controls",
          "model_name": "HTMLModel",
          "model_module_version": "1.5.0",
          "state": {
            "_dom_classes": [],
            "_model_module": "@jupyter-widgets/controls",
            "_model_module_version": "1.5.0",
            "_model_name": "HTMLModel",
            "_view_count": null,
            "_view_module": "@jupyter-widgets/controls",
            "_view_module_version": "1.5.0",
            "_view_name": "HTMLView",
            "description": "",
            "description_tooltip": null,
            "layout": "IPY_MODEL_e6564f1c953044b38a082e3758b7a130",
            "placeholder": "​",
            "style": "IPY_MODEL_b183ad1d3ce345e7806c2c6c555d8437",
            "value": " 1648877/1648877 [00:00&lt;00:00, 50226526.91it/s]"
          }
        },
        "15e229b5bef448a882be67f8c3b3aafe": {
          "model_module": "@jupyter-widgets/base",
          "model_name": "LayoutModel",
          "model_module_version": "1.2.0",
          "state": {
            "_model_module": "@jupyter-widgets/base",
            "_model_module_version": "1.2.0",
            "_model_name": "LayoutModel",
            "_view_count": null,
            "_view_module": "@jupyter-widgets/base",
            "_view_module_version": "1.2.0",
            "_view_name": "LayoutView",
            "align_content": null,
            "align_items": null,
            "align_self": null,
            "border": null,
            "bottom": null,
            "display": null,
            "flex": null,
            "flex_flow": null,
            "grid_area": null,
            "grid_auto_columns": null,
            "grid_auto_flow": null,
            "grid_auto_rows": null,
            "grid_column": null,
            "grid_gap": null,
            "grid_row": null,
            "grid_template_areas": null,
            "grid_template_columns": null,
            "grid_template_rows": null,
            "height": null,
            "justify_content": null,
            "justify_items": null,
            "left": null,
            "margin": null,
            "max_height": null,
            "max_width": null,
            "min_height": null,
            "min_width": null,
            "object_fit": null,
            "object_position": null,
            "order": null,
            "overflow": null,
            "overflow_x": null,
            "overflow_y": null,
            "padding": null,
            "right": null,
            "top": null,
            "visibility": null,
            "width": null
          }
        },
        "4cd01b581ac74fa99b1b6c5c62e4d1a7": {
          "model_module": "@jupyter-widgets/base",
          "model_name": "LayoutModel",
          "model_module_version": "1.2.0",
          "state": {
            "_model_module": "@jupyter-widgets/base",
            "_model_module_version": "1.2.0",
            "_model_name": "LayoutModel",
            "_view_count": null,
            "_view_module": "@jupyter-widgets/base",
            "_view_module_version": "1.2.0",
            "_view_name": "LayoutView",
            "align_content": null,
            "align_items": null,
            "align_self": null,
            "border": null,
            "bottom": null,
            "display": null,
            "flex": null,
            "flex_flow": null,
            "grid_area": null,
            "grid_auto_columns": null,
            "grid_auto_flow": null,
            "grid_auto_rows": null,
            "grid_column": null,
            "grid_gap": null,
            "grid_row": null,
            "grid_template_areas": null,
            "grid_template_columns": null,
            "grid_template_rows": null,
            "height": null,
            "justify_content": null,
            "justify_items": null,
            "left": null,
            "margin": null,
            "max_height": null,
            "max_width": null,
            "min_height": null,
            "min_width": null,
            "object_fit": null,
            "object_position": null,
            "order": null,
            "overflow": null,
            "overflow_x": null,
            "overflow_y": null,
            "padding": null,
            "right": null,
            "top": null,
            "visibility": null,
            "width": null
          }
        },
        "ce673ad09c0642a6a94cb74d5a536537": {
          "model_module": "@jupyter-widgets/controls",
          "model_name": "DescriptionStyleModel",
          "model_module_version": "1.5.0",
          "state": {
            "_model_module": "@jupyter-widgets/controls",
            "_model_module_version": "1.5.0",
            "_model_name": "DescriptionStyleModel",
            "_view_count": null,
            "_view_module": "@jupyter-widgets/base",
            "_view_module_version": "1.2.0",
            "_view_name": "StyleView",
            "description_width": ""
          }
        },
        "42d3d3f070754524bd2616f9ae628a0d": {
          "model_module": "@jupyter-widgets/base",
          "model_name": "LayoutModel",
          "model_module_version": "1.2.0",
          "state": {
            "_model_module": "@jupyter-widgets/base",
            "_model_module_version": "1.2.0",
            "_model_name": "LayoutModel",
            "_view_count": null,
            "_view_module": "@jupyter-widgets/base",
            "_view_module_version": "1.2.0",
            "_view_name": "LayoutView",
            "align_content": null,
            "align_items": null,
            "align_self": null,
            "border": null,
            "bottom": null,
            "display": null,
            "flex": null,
            "flex_flow": null,
            "grid_area": null,
            "grid_auto_columns": null,
            "grid_auto_flow": null,
            "grid_auto_rows": null,
            "grid_column": null,
            "grid_gap": null,
            "grid_row": null,
            "grid_template_areas": null,
            "grid_template_columns": null,
            "grid_template_rows": null,
            "height": null,
            "justify_content": null,
            "justify_items": null,
            "left": null,
            "margin": null,
            "max_height": null,
            "max_width": null,
            "min_height": null,
            "min_width": null,
            "object_fit": null,
            "object_position": null,
            "order": null,
            "overflow": null,
            "overflow_x": null,
            "overflow_y": null,
            "padding": null,
            "right": null,
            "top": null,
            "visibility": null,
            "width": null
          }
        },
        "51c6fd819cd04dffa58051e360234557": {
          "model_module": "@jupyter-widgets/controls",
          "model_name": "ProgressStyleModel",
          "model_module_version": "1.5.0",
          "state": {
            "_model_module": "@jupyter-widgets/controls",
            "_model_module_version": "1.5.0",
            "_model_name": "ProgressStyleModel",
            "_view_count": null,
            "_view_module": "@jupyter-widgets/base",
            "_view_module_version": "1.2.0",
            "_view_name": "StyleView",
            "bar_color": null,
            "description_width": ""
          }
        },
        "e6564f1c953044b38a082e3758b7a130": {
          "model_module": "@jupyter-widgets/base",
          "model_name": "LayoutModel",
          "model_module_version": "1.2.0",
          "state": {
            "_model_module": "@jupyter-widgets/base",
            "_model_module_version": "1.2.0",
            "_model_name": "LayoutModel",
            "_view_count": null,
            "_view_module": "@jupyter-widgets/base",
            "_view_module_version": "1.2.0",
            "_view_name": "LayoutView",
            "align_content": null,
            "align_items": null,
            "align_self": null,
            "border": null,
            "bottom": null,
            "display": null,
            "flex": null,
            "flex_flow": null,
            "grid_area": null,
            "grid_auto_columns": null,
            "grid_auto_flow": null,
            "grid_auto_rows": null,
            "grid_column": null,
            "grid_gap": null,
            "grid_row": null,
            "grid_template_areas": null,
            "grid_template_columns": null,
            "grid_template_rows": null,
            "height": null,
            "justify_content": null,
            "justify_items": null,
            "left": null,
            "margin": null,
            "max_height": null,
            "max_width": null,
            "min_height": null,
            "min_width": null,
            "object_fit": null,
            "object_position": null,
            "order": null,
            "overflow": null,
            "overflow_x": null,
            "overflow_y": null,
            "padding": null,
            "right": null,
            "top": null,
            "visibility": null,
            "width": null
          }
        },
        "b183ad1d3ce345e7806c2c6c555d8437": {
          "model_module": "@jupyter-widgets/controls",
          "model_name": "DescriptionStyleModel",
          "model_module_version": "1.5.0",
          "state": {
            "_model_module": "@jupyter-widgets/controls",
            "_model_module_version": "1.5.0",
            "_model_name": "DescriptionStyleModel",
            "_view_count": null,
            "_view_module": "@jupyter-widgets/base",
            "_view_module_version": "1.2.0",
            "_view_name": "StyleView",
            "description_width": ""
          }
        },
        "657cb4b5e5d14dd39df52423e9343bf0": {
          "model_module": "@jupyter-widgets/controls",
          "model_name": "HBoxModel",
          "model_module_version": "1.5.0",
          "state": {
            "_dom_classes": [],
            "_model_module": "@jupyter-widgets/controls",
            "_model_module_version": "1.5.0",
            "_model_name": "HBoxModel",
            "_view_count": null,
            "_view_module": "@jupyter-widgets/controls",
            "_view_module_version": "1.5.0",
            "_view_name": "HBoxView",
            "box_style": "",
            "children": [
              "IPY_MODEL_0ed03a460d2d40079ae044a53befb9f8",
              "IPY_MODEL_d5d53b99f3f34f9481eb487d3732f053",
              "IPY_MODEL_66521ab1ebd94d07adb22e8caada51f7"
            ],
            "layout": "IPY_MODEL_75474419de83419bbb8a3a4dd3011cda"
          }
        },
        "0ed03a460d2d40079ae044a53befb9f8": {
          "model_module": "@jupyter-widgets/controls",
          "model_name": "HTMLModel",
          "model_module_version": "1.5.0",
          "state": {
            "_dom_classes": [],
            "_model_module": "@jupyter-widgets/controls",
            "_model_module_version": "1.5.0",
            "_model_name": "HTMLModel",
            "_view_count": null,
            "_view_module": "@jupyter-widgets/controls",
            "_view_module_version": "1.5.0",
            "_view_name": "HTMLView",
            "description": "",
            "description_tooltip": null,
            "layout": "IPY_MODEL_6ed4af001cd840eca34d85605fdf7d77",
            "placeholder": "​",
            "style": "IPY_MODEL_b9ea37024db04a218040a614c3792011",
            "value": "100%"
          }
        },
        "d5d53b99f3f34f9481eb487d3732f053": {
          "model_module": "@jupyter-widgets/controls",
          "model_name": "FloatProgressModel",
          "model_module_version": "1.5.0",
          "state": {
            "_dom_classes": [],
            "_model_module": "@jupyter-widgets/controls",
            "_model_module_version": "1.5.0",
            "_model_name": "FloatProgressModel",
            "_view_count": null,
            "_view_module": "@jupyter-widgets/controls",
            "_view_module_version": "1.5.0",
            "_view_name": "ProgressView",
            "bar_style": "success",
            "description": "",
            "description_tooltip": null,
            "layout": "IPY_MODEL_296235241f1446f1bfdd8e234cca7811",
            "max": 4542,
            "min": 0,
            "orientation": "horizontal",
            "style": "IPY_MODEL_5c8ec27728f04289ad2a3f1b3c1aa342",
            "value": 4542
          }
        },
        "66521ab1ebd94d07adb22e8caada51f7": {
          "model_module": "@jupyter-widgets/controls",
          "model_name": "HTMLModel",
          "model_module_version": "1.5.0",
          "state": {
            "_dom_classes": [],
            "_model_module": "@jupyter-widgets/controls",
            "_model_module_version": "1.5.0",
            "_model_name": "HTMLModel",
            "_view_count": null,
            "_view_module": "@jupyter-widgets/controls",
            "_view_module_version": "1.5.0",
            "_view_name": "HTMLView",
            "description": "",
            "description_tooltip": null,
            "layout": "IPY_MODEL_68b6e80e35974cd58855e000b09ac209",
            "placeholder": "​",
            "style": "IPY_MODEL_6334f872b3af443bb4c391453c82a1e7",
            "value": " 4542/4542 [00:00&lt;00:00, 350199.98it/s]"
          }
        },
        "75474419de83419bbb8a3a4dd3011cda": {
          "model_module": "@jupyter-widgets/base",
          "model_name": "LayoutModel",
          "model_module_version": "1.2.0",
          "state": {
            "_model_module": "@jupyter-widgets/base",
            "_model_module_version": "1.2.0",
            "_model_name": "LayoutModel",
            "_view_count": null,
            "_view_module": "@jupyter-widgets/base",
            "_view_module_version": "1.2.0",
            "_view_name": "LayoutView",
            "align_content": null,
            "align_items": null,
            "align_self": null,
            "border": null,
            "bottom": null,
            "display": null,
            "flex": null,
            "flex_flow": null,
            "grid_area": null,
            "grid_auto_columns": null,
            "grid_auto_flow": null,
            "grid_auto_rows": null,
            "grid_column": null,
            "grid_gap": null,
            "grid_row": null,
            "grid_template_areas": null,
            "grid_template_columns": null,
            "grid_template_rows": null,
            "height": null,
            "justify_content": null,
            "justify_items": null,
            "left": null,
            "margin": null,
            "max_height": null,
            "max_width": null,
            "min_height": null,
            "min_width": null,
            "object_fit": null,
            "object_position": null,
            "order": null,
            "overflow": null,
            "overflow_x": null,
            "overflow_y": null,
            "padding": null,
            "right": null,
            "top": null,
            "visibility": null,
            "width": null
          }
        },
        "6ed4af001cd840eca34d85605fdf7d77": {
          "model_module": "@jupyter-widgets/base",
          "model_name": "LayoutModel",
          "model_module_version": "1.2.0",
          "state": {
            "_model_module": "@jupyter-widgets/base",
            "_model_module_version": "1.2.0",
            "_model_name": "LayoutModel",
            "_view_count": null,
            "_view_module": "@jupyter-widgets/base",
            "_view_module_version": "1.2.0",
            "_view_name": "LayoutView",
            "align_content": null,
            "align_items": null,
            "align_self": null,
            "border": null,
            "bottom": null,
            "display": null,
            "flex": null,
            "flex_flow": null,
            "grid_area": null,
            "grid_auto_columns": null,
            "grid_auto_flow": null,
            "grid_auto_rows": null,
            "grid_column": null,
            "grid_gap": null,
            "grid_row": null,
            "grid_template_areas": null,
            "grid_template_columns": null,
            "grid_template_rows": null,
            "height": null,
            "justify_content": null,
            "justify_items": null,
            "left": null,
            "margin": null,
            "max_height": null,
            "max_width": null,
            "min_height": null,
            "min_width": null,
            "object_fit": null,
            "object_position": null,
            "order": null,
            "overflow": null,
            "overflow_x": null,
            "overflow_y": null,
            "padding": null,
            "right": null,
            "top": null,
            "visibility": null,
            "width": null
          }
        },
        "b9ea37024db04a218040a614c3792011": {
          "model_module": "@jupyter-widgets/controls",
          "model_name": "DescriptionStyleModel",
          "model_module_version": "1.5.0",
          "state": {
            "_model_module": "@jupyter-widgets/controls",
            "_model_module_version": "1.5.0",
            "_model_name": "DescriptionStyleModel",
            "_view_count": null,
            "_view_module": "@jupyter-widgets/base",
            "_view_module_version": "1.2.0",
            "_view_name": "StyleView",
            "description_width": ""
          }
        },
        "296235241f1446f1bfdd8e234cca7811": {
          "model_module": "@jupyter-widgets/base",
          "model_name": "LayoutModel",
          "model_module_version": "1.2.0",
          "state": {
            "_model_module": "@jupyter-widgets/base",
            "_model_module_version": "1.2.0",
            "_model_name": "LayoutModel",
            "_view_count": null,
            "_view_module": "@jupyter-widgets/base",
            "_view_module_version": "1.2.0",
            "_view_name": "LayoutView",
            "align_content": null,
            "align_items": null,
            "align_self": null,
            "border": null,
            "bottom": null,
            "display": null,
            "flex": null,
            "flex_flow": null,
            "grid_area": null,
            "grid_auto_columns": null,
            "grid_auto_flow": null,
            "grid_auto_rows": null,
            "grid_column": null,
            "grid_gap": null,
            "grid_row": null,
            "grid_template_areas": null,
            "grid_template_columns": null,
            "grid_template_rows": null,
            "height": null,
            "justify_content": null,
            "justify_items": null,
            "left": null,
            "margin": null,
            "max_height": null,
            "max_width": null,
            "min_height": null,
            "min_width": null,
            "object_fit": null,
            "object_position": null,
            "order": null,
            "overflow": null,
            "overflow_x": null,
            "overflow_y": null,
            "padding": null,
            "right": null,
            "top": null,
            "visibility": null,
            "width": null
          }
        },
        "5c8ec27728f04289ad2a3f1b3c1aa342": {
          "model_module": "@jupyter-widgets/controls",
          "model_name": "ProgressStyleModel",
          "model_module_version": "1.5.0",
          "state": {
            "_model_module": "@jupyter-widgets/controls",
            "_model_module_version": "1.5.0",
            "_model_name": "ProgressStyleModel",
            "_view_count": null,
            "_view_module": "@jupyter-widgets/base",
            "_view_module_version": "1.2.0",
            "_view_name": "StyleView",
            "bar_color": null,
            "description_width": ""
          }
        },
        "68b6e80e35974cd58855e000b09ac209": {
          "model_module": "@jupyter-widgets/base",
          "model_name": "LayoutModel",
          "model_module_version": "1.2.0",
          "state": {
            "_model_module": "@jupyter-widgets/base",
            "_model_module_version": "1.2.0",
            "_model_name": "LayoutModel",
            "_view_count": null,
            "_view_module": "@jupyter-widgets/base",
            "_view_module_version": "1.2.0",
            "_view_name": "LayoutView",
            "align_content": null,
            "align_items": null,
            "align_self": null,
            "border": null,
            "bottom": null,
            "display": null,
            "flex": null,
            "flex_flow": null,
            "grid_area": null,
            "grid_auto_columns": null,
            "grid_auto_flow": null,
            "grid_auto_rows": null,
            "grid_column": null,
            "grid_gap": null,
            "grid_row": null,
            "grid_template_areas": null,
            "grid_template_columns": null,
            "grid_template_rows": null,
            "height": null,
            "justify_content": null,
            "justify_items": null,
            "left": null,
            "margin": null,
            "max_height": null,
            "max_width": null,
            "min_height": null,
            "min_width": null,
            "object_fit": null,
            "object_position": null,
            "order": null,
            "overflow": null,
            "overflow_x": null,
            "overflow_y": null,
            "padding": null,
            "right": null,
            "top": null,
            "visibility": null,
            "width": null
          }
        },
        "6334f872b3af443bb4c391453c82a1e7": {
          "model_module": "@jupyter-widgets/controls",
          "model_name": "DescriptionStyleModel",
          "model_module_version": "1.5.0",
          "state": {
            "_model_module": "@jupyter-widgets/controls",
            "_model_module_version": "1.5.0",
            "_model_name": "DescriptionStyleModel",
            "_view_count": null,
            "_view_module": "@jupyter-widgets/base",
            "_view_module_version": "1.2.0",
            "_view_name": "StyleView",
            "description_width": ""
          }
        }
      }
    }
  },
  "cells": [
    {
      "cell_type": "markdown",
      "metadata": {
        "id": "view-in-github",
        "colab_type": "text"
      },
      "source": [
        "<a href=\"https://colab.research.google.com/github/mjgroth/deephys-aio/blob/master/tutorials/Colored_MNIST_Tutorial.ipynb\" target=\"_parent\"><img src=\"https://colab.research.google.com/assets/colab-badge.svg\" alt=\"Open In Colab\"/></a>"
      ]
    },
    {
      "cell_type": "markdown",
      "source": [
        "# Setup Deephy\n",
        "\n"
      ],
      "metadata": {
        "id": "N_KbyT_1o9BF"
      }
    },
    {
      "cell_type": "code",
      "source": [
        "#@title 1. Install dependencies\n",
        "!pip install torch torchvision # We will use Torch as the deep net platform\n",
        "!pip install deephys==0.14.0 # To export the neural activity to deephys"
      ],
      "metadata": {
        "colab": {
          "base_uri": "https://localhost:8080/"
        },
        "id": "UO0wyn2CViHA",
        "outputId": "978380b0-f65b-4fae-dee3-06bf9f255633"
      },
      "execution_count": 1,
      "outputs": [
        {
          "output_type": "stream",
          "name": "stdout",
          "text": [
            "Looking in indexes: https://pypi.org/simple, https://us-python.pkg.dev/colab-wheels/public/simple/\n",
            "Requirement already satisfied: torch in /usr/local/lib/python3.8/dist-packages (1.13.1+cu116)\n",
            "Requirement already satisfied: torchvision in /usr/local/lib/python3.8/dist-packages (0.14.1+cu116)\n",
            "Requirement already satisfied: typing-extensions in /usr/local/lib/python3.8/dist-packages (from torch) (4.5.0)\n",
            "Requirement already satisfied: pillow!=8.3.*,>=5.3.0 in /usr/local/lib/python3.8/dist-packages (from torchvision) (7.1.2)\n",
            "Requirement already satisfied: numpy in /usr/local/lib/python3.8/dist-packages (from torchvision) (1.22.4)\n",
            "Requirement already satisfied: requests in /usr/local/lib/python3.8/dist-packages (from torchvision) (2.25.1)\n",
            "Requirement already satisfied: urllib3<1.27,>=1.21.1 in /usr/local/lib/python3.8/dist-packages (from requests->torchvision) (1.24.3)\n",
            "Requirement already satisfied: certifi>=2017.4.17 in /usr/local/lib/python3.8/dist-packages (from requests->torchvision) (2022.12.7)\n",
            "Requirement already satisfied: idna<3,>=2.5 in /usr/local/lib/python3.8/dist-packages (from requests->torchvision) (2.10)\n",
            "Requirement already satisfied: chardet<5,>=3.0.2 in /usr/local/lib/python3.8/dist-packages (from requests->torchvision) (4.0.0)\n",
            "Looking in indexes: https://pypi.org/simple, https://us-python.pkg.dev/colab-wheels/public/simple/\n",
            "Collecting deephys==0.14.0\n",
            "  Downloading deephys-0.14.0-py3-none-any.whl (5.2 kB)\n",
            "Requirement already satisfied: tqdm in /usr/local/lib/python3.8/dist-packages (from deephys==0.14.0) (4.64.1)\n",
            "Requirement already satisfied: numpy in /usr/local/lib/python3.8/dist-packages (from deephys==0.14.0) (1.22.4)\n",
            "Collecting cbor2\n",
            "  Downloading cbor2-5.4.6-cp38-cp38-manylinux_2_17_x86_64.manylinux2014_x86_64.whl (236 kB)\n",
            "\u001b[2K     \u001b[90m━━━━━━━━━━━━━━━━━━━━━━━━━━━━━━━━━━━━━━\u001b[0m \u001b[32m236.3/236.3 KB\u001b[0m \u001b[31m12.2 MB/s\u001b[0m eta \u001b[36m0:00:00\u001b[0m\n",
            "\u001b[?25hInstalling collected packages: cbor2, deephys\n",
            "Successfully installed cbor2-5.4.6 deephys-0.14.0\n"
          ]
        }
      ]
    },
    {
      "cell_type": "markdown",
      "source": [
        "# Run Neural Network Experiment"
      ],
      "metadata": {
        "id": "Ky2zpklwpN1W"
      }
    },
    {
      "cell_type": "code",
      "source": [
        "#@title 2. Define neural net model\n",
        "\n",
        "#Import Libraries\n",
        "from __future__ import print_function\n",
        "import argparse\n",
        "import torch\n",
        "import torchvision\n",
        "import torch.nn as nn\n",
        "import torch.nn.functional as F\n",
        "import torch.optim as optim\n",
        "from torch.utils.data import TensorDataset\n",
        "from torchvision import datasets, transforms\n",
        "from torch.autograd import Variable\n",
        "\n",
        "import numpy as np\n",
        "import tqdm\n",
        "\n",
        "# Neural network model definition\n",
        "\n",
        "class Net(nn.Module):\n",
        "    #This defines the structure of the NN.\n",
        "    def __init__(self):\n",
        "        super(Net, self).__init__()\n",
        "        self.conv1 = nn.Conv2d(3, 10, kernel_size=5)\n",
        "        self.conv2 = nn.Conv2d(10, 20, kernel_size=5)\n",
        "        self.conv2_drop = nn.Dropout2d()  #Dropout\n",
        "        self.fc1 = nn.Linear(320, 50)\n",
        "        self.fc2 = nn.Linear(50, 10)\n",
        "\n",
        "    def forward(self, x):\n",
        "        #Convolutional Layer/Pooling Layer/Activation\n",
        "        x = F.relu(F.max_pool2d(self.conv1(x), 2)) \n",
        "        #Convolutional Layer/Dropout/Pooling Layer/Activation\n",
        "        x = F.relu(F.max_pool2d(self.conv2_drop(self.conv2(x)), 2))\n",
        "        x = x.view(-1, 320)\n",
        "        #Fully Connected Layer/Activation\n",
        "        x = F.relu(self.fc1(x))\n",
        "        x = F.dropout(x, training=self.training)\n",
        "        #Fully Connected Layer/Activation\n",
        "        x = self.fc2(x)\n",
        "        #Softmax gets probabilities. \n",
        "        return F.log_softmax(x, dim=1)\n"
      ],
      "metadata": {
        "id": "py3aEdlHJGOD"
      },
      "execution_count": 2,
      "outputs": []
    },
    {
      "cell_type": "code",
      "source": [
        "#@title 3. Load the model. Define hooks to extract the neural activity from the network\n",
        "\n",
        "args={}\n",
        "args['batch_size'] = 1000\n",
        "args['cuda'] = True # Enabling cuda is required\n",
        "\n",
        "# Instntiate model\n",
        "model = Net()\n",
        "if args['cuda']:\n",
        "    model.cuda()\n",
        "\n",
        "#Load pre-trained model\n",
        "!wget https://deephys.nyc3.digitaloceanspaces.com/colab_deps%2Fcheckpoint_c_mod.pth\n",
        "state_dict = torch.load('colab_deps%2Fcheckpoint_c_mod.pth')\n",
        "model.load_state_dict(state_dict)\n",
        "model.eval() # testing model\n",
        "\n",
        "# Hooks to extract the neural activity from the model\n",
        "model_activity = {}\n",
        "def get_activation(name):\n",
        "  def hook(model, input, output):\n",
        "    model_activity[name] = output.detach()\n",
        "  return hook\n",
        "\n",
        "# We will only pull from the fc1 layer\n",
        "h = model.fc1.register_forward_hook(get_activation('linear1'))"
      ],
      "metadata": {
        "id": "afgvoDUpc2ws",
        "colab": {
          "base_uri": "https://localhost:8080/"
        },
        "outputId": "dc818e84-e6fd-4642-9c6d-b0bde180acc3"
      },
      "execution_count": 5,
      "outputs": [
        {
          "output_type": "stream",
          "name": "stdout",
          "text": [
            "--2023-02-23 21:03:16--  https://deephys.nyc3.digitaloceanspaces.com/colab_deps%2Fcheckpoint_c_mod.pth\n",
            "Resolving deephys.nyc3.digitaloceanspaces.com (deephys.nyc3.digitaloceanspaces.com)... 162.243.189.2\n",
            "Connecting to deephys.nyc3.digitaloceanspaces.com (deephys.nyc3.digitaloceanspaces.com)|162.243.189.2|:443... connected.\n",
            "HTTP request sent, awaiting response... 200 OK\n",
            "Length: 91855 (90K) [text/plain]\n",
            "Saving to: ‘colab_deps%2Fcheckpoint_c_mod.pth.1’\n",
            "\n",
            "colab_deps%2Fcheckp 100%[===================>]  89.70K   380KB/s    in 0.2s    \n",
            "\n",
            "2023-02-23 21:03:17 (380 KB/s) - ‘colab_deps%2Fcheckpoint_c_mod.pth.1’ saved [91855/91855]\n",
            "\n"
          ]
        }
      ]
    },
    {
      "cell_type": "code",
      "source": [
        "#@title 4. Define function to extract data to export to deephys from the model\n",
        "def extract_activity(testloader, model):\n",
        "\n",
        "  # All we need for Deephys\n",
        "  dp_images = []\n",
        "  dp_gt = []\n",
        "  dp_activity = {\n",
        "      \"output\": [], \n",
        "      \"linear1\": []\n",
        "  }\n",
        "  \n",
        "  # Loop across all dataset \n",
        "  for data, target in iter(testloader):\n",
        "\n",
        "      dp_images.append(data)\n",
        "      dp_gt.append(target)\n",
        "\n",
        "      if args['cuda']:\n",
        "        data, target = data.cuda(), target.cuda()\n",
        "  \n",
        "      with torch.no_grad():\n",
        "        tmp_activity = model(data).detach().cpu()\n",
        "        dp_activity['output'].append(tmp_activity)\n",
        "        tmp_activity = F.relu(model_activity['linear1']).detach().cpu()\n",
        "        dp_activity['linear1'].append(tmp_activity)\n",
        "\n",
        "  # Convert torch tensors to numpy\n",
        "  for layer in dp_activity:\n",
        "        dp_activity[layer] = torch.cat(dp_activity[layer]).numpy()\n",
        "\n",
        "  dp_images = torch.cat(dp_images).numpy()\n",
        "  dp_gt = torch.cat(dp_gt).numpy()\n",
        "\n",
        "  return dp_images, dp_gt, dp_activity"
      ],
      "metadata": {
        "id": "tA7n0BoojFWC"
      },
      "execution_count": 6,
      "outputs": []
    },
    {
      "cell_type": "code",
      "source": [
        "#@title 5. Deephys model\n",
        "\n",
        "import deephys as dp\n",
        "\n",
        "classes = ['0', '1', '2', '3',\n",
        "           '4', '5', '6', '7', '8', '9']\n",
        "\n",
        "dp_model = dp.model(\n",
        "    name = \"colored_mnist\",\n",
        "    layers = {\n",
        "        \"linear1\": model.fc1.out_features,\n",
        "        \"output\": len(classes)\n",
        "    },\n",
        "    classification_layer=\"output\"\n",
        ")\n",
        "\n",
        "dp_model.save()"
      ],
      "metadata": {
        "colab": {
          "base_uri": "https://localhost:8080/"
        },
        "id": "YxwPooHBklVR",
        "outputId": "c22ad7d4-c4ed-4745-de99-7342252ee739"
      },
      "execution_count": 7,
      "outputs": [
        {
          "output_type": "stream",
          "name": "stdout",
          "text": [
            "Saving data to colored_mnist.model...\n",
            "done saving data to colored_mnist.model\n"
          ]
        }
      ]
    },
    {
      "cell_type": "code",
      "source": [
        "#@title 6. Generate colors for MNIST InD and OOD versions\n",
        "\n",
        "def get_color_codes(opt_c):\n",
        "    if opt_c == 1: #Original color transformation\n",
        "      C = np.array([[ 0.13710051,  1.        ,  0.71222024],\n",
        "         [ 1.        ,  0.23502843,  0.21756662],\n",
        "         [ 1.        ,  0.38958   ,  0.08445272],\n",
        "         [ 0.3963379 ,  0.59521337,  1.        ],\n",
        "         [ 0.65700309,  0.70908503,  1.        ],\n",
        "         [ 1.        ,  0.09696472,  0.50587124],\n",
        "         [ 0.51142274,  0.91275694,  1.        ],\n",
        "         [ 1.        ,  0.6304754 ,  0.09344255],\n",
        "         [ 1.        ,  0.80362454,  0.51662567],\n",
        "         [ 0.40087705,  0.79163833,  1.        ]])\n",
        "      \n",
        "    elif opt_c == 2: #Random permutation of the original colours\n",
        "      C = np.array([[ 1.        ,  0.38958   ,  0.08445272],\n",
        "        [ 1.        ,  0.09696472,  0.50587124],\n",
        "        [ 0.3963379 ,  0.59521337,  1.        ],\n",
        "        [ 0.13710051,  1.        ,  0.71222024],\n",
        "        [ 0.40087705,  0.79163833,  1.        ],\n",
        "        [ 1.        ,  0.80362454,  0.51662567],\n",
        "        [ 1.        ,  0.6304754 ,  0.09344255],\n",
        "        [ 0.65700309,  0.70908503,  1.        ],\n",
        "        [ 0.51142274,  0.91275694,  1.        ],\n",
        "        [ 1.        ,  0.23502843,  0.21756662]])\n",
        "      \n",
        "    elif opt_c == 3: #Arbitrary color transformation\n",
        "      C = np.array([[ 1.        ,  0.41949873,  0.99060461],\n",
        "          [ 0.45823549,  1.        ,  0.35099324],\n",
        "          [ 0.18897236,  1.        ,  0.0655438 ],\n",
        "          [ 0.61364824,  0.52432431,  1.        ],\n",
        "          [ 0.20415346,  1.        ,  0.7115653 ],\n",
        "          [ 0.18451955,  0.76054322,  1.        ],\n",
        "          [ 0.67399901,  1.        ,  0.17729946],\n",
        "          [ 0.58266085,  1.        ,  0.16336576],\n",
        "          [ 1.        ,  0.7173036 ,  0.8670752 ],\n",
        "          [ 0.86803908,  0.98159648,  1.        ]])\n",
        "      \n",
        "    elif opt_c == 4: #Create drifted colors by subtracting a fixed value\n",
        "      C = np.array([[ 0.13710051,  1.        ,  0.71222024],\n",
        "         [ 1.        ,  0.23502843,  0.21756662],\n",
        "         [ 1.        ,  0.38958   ,  0.08445272],\n",
        "         [ 0.3963379 ,  0.59521337,  1.        ],\n",
        "         [ 0.65700309,  0.70908503,  1.        ],\n",
        "         [ 1.        ,  0.09696472,  0.50587124],\n",
        "         [ 0.51142274,  0.91275694,  1.        ],\n",
        "         [ 1.        ,  0.6304754 ,  0.09344255],\n",
        "         [ 1.        ,  0.80362454,  0.51662567],\n",
        "         [ 0.40087705,  0.79163833,  1.        ]])\n",
        "      random_ep = 0.2726747\n",
        "      C = C - random_ep\n",
        "      \n",
        "    return C\n",
        "\n",
        "def gen_color_data(loader, img_size=(3, 28, 28), opt_c=1):\n",
        "    Cfg = get_color_codes(opt_c) #Get the set of colors\n",
        "\n",
        "    tot_iters = len(loader)\n",
        "    iters = iter(loader)\n",
        "    for i in tqdm.tqdm(range(tot_iters), total=tot_iters):\n",
        "      x, targets = next(iters)\n",
        "      targets = targets.cpu().numpy()\n",
        "\n",
        "      x = (((x * 255) > 150) * 255).type('torch.FloatTensor')\n",
        "      x_rgb = torch.ones(x.size(0), 3, x.size()[2], x.size()[3]).type('torch.FloatTensor')\n",
        "      x_rgb = x_rgb * x\n",
        "      x_rgb_fg = 1. * x_rgb\n",
        "\n",
        "      c = Cfg[targets] #Select colors according to the ground truth category\n",
        "      c = c.reshape(-1, 3, 1, 1)\n",
        "      c = torch.from_numpy(c).type('torch.FloatTensor')\n",
        "      x_rgb_fg[:, 0] = x_rgb_fg[:, 0] * c[:, 0]\n",
        "      x_rgb_fg[:, 1] = x_rgb_fg[:, 1] * c[:, 1]\n",
        "      x_rgb_fg[:, 2] = x_rgb_fg[:, 2] * c[:, 2]\n",
        "\n",
        "      x_rgb = torch.clamp(x_rgb_fg, 0., 255.)\n",
        "\n",
        "      if i == 0:\n",
        "        color_data_x = np.zeros((args['batch_size'] * len(loader), *img_size))\n",
        "        color_data_y = np.zeros((args['batch_size'] * len(loader),))\n",
        "      color_data_x[i * args['batch_size']: (i + 1) * args['batch_size']] = x_rgb / 255.\n",
        "      color_data_y[i * args['batch_size']: (i + 1) * args['batch_size']] = targets\n",
        "\n",
        "    return color_data_x, color_data_y"
      ],
      "metadata": {
        "id": "LhaJ6lCsn4ZU"
      },
      "execution_count": 8,
      "outputs": []
    },
    {
      "cell_type": "code",
      "source": [
        "#@title 7. Download original MNIST dataset\n",
        "mnist_test = datasets.MNIST('./data', train=False, download=True,\n",
        "                   transform=transforms.Compose([\n",
        "                       transforms.ToTensor(),\n",
        "                       transforms.Normalize((0.1307,), (0.3081,))\n",
        "                   ]))\n",
        "test_loader = torch.utils.data.DataLoader(mnist_test,\n",
        "    batch_size=args['batch_size'], shuffle=False, num_workers=2)"
      ],
      "metadata": {
        "id": "PRi4efxHrzem",
        "colab": {
          "base_uri": "https://localhost:8080/",
          "height": 431,
          "referenced_widgets": [
            "73564c4af0f0415dbeed3f7566389b16",
            "4d6abbd02c324649a09e67e1b682fc65",
            "572294b30ce74f3b8c2d86bea032b993",
            "7b1f187998264c1db49b5b79ae24609c",
            "d95d91b65a87408cb87cdea5aed146d6",
            "aa1bd5b4fdd149a5b086642641eaa523",
            "7f6df0f9145b484ba7371b5e48b7741b",
            "71bb7895947c4cffa559d38bc4a5125c",
            "1c4ee9ecee684cf282d3de6d98a85b28",
            "3961dff5e78d485fb0707e7314519f57",
            "61755ff1ba3b412881ca0eeb383c6daf",
            "1ff12bd53866417eaf44ba68313c6e5d",
            "c5b260bc07484670872cdde77207413e",
            "2b99a2a5993b49a898068ca0910e9a57",
            "adb4b7287ade4d9787855f186630dfe5",
            "59e5dac52cdf4eab9130e1221d459b19",
            "8935fbed5c07490e8d0cdd71e03bd6e9",
            "05299e77f9094afba17f9dca897d46d9",
            "9e8ae76b7c5546d4a3fc62b6b72b0586",
            "e5dba9810ce14b68bcf1eea37525060b",
            "63e89113e2e9418881e2afd949bd1f6e",
            "bcae122c70094cf58f158af8ef92b617",
            "743880754db04f6ba7b5738ca86c1503",
            "ff81a0ad9d174157a06bf9391457c87c",
            "76768543d9d34abd92d1d886941450dc",
            "b81adc83be434d71b27374fc368b2c1e",
            "15e229b5bef448a882be67f8c3b3aafe",
            "4cd01b581ac74fa99b1b6c5c62e4d1a7",
            "ce673ad09c0642a6a94cb74d5a536537",
            "42d3d3f070754524bd2616f9ae628a0d",
            "51c6fd819cd04dffa58051e360234557",
            "e6564f1c953044b38a082e3758b7a130",
            "b183ad1d3ce345e7806c2c6c555d8437",
            "657cb4b5e5d14dd39df52423e9343bf0",
            "0ed03a460d2d40079ae044a53befb9f8",
            "d5d53b99f3f34f9481eb487d3732f053",
            "66521ab1ebd94d07adb22e8caada51f7",
            "75474419de83419bbb8a3a4dd3011cda",
            "6ed4af001cd840eca34d85605fdf7d77",
            "b9ea37024db04a218040a614c3792011",
            "296235241f1446f1bfdd8e234cca7811",
            "5c8ec27728f04289ad2a3f1b3c1aa342",
            "68b6e80e35974cd58855e000b09ac209",
            "6334f872b3af443bb4c391453c82a1e7"
          ]
        },
        "outputId": "b1363bee-daba-4317-8ce1-696cd382467e"
      },
      "execution_count": 9,
      "outputs": [
        {
          "output_type": "stream",
          "name": "stdout",
          "text": [
            "Downloading http://yann.lecun.com/exdb/mnist/train-images-idx3-ubyte.gz\n",
            "Downloading http://yann.lecun.com/exdb/mnist/train-images-idx3-ubyte.gz to ./data/MNIST/raw/train-images-idx3-ubyte.gz\n"
          ]
        },
        {
          "output_type": "display_data",
          "data": {
            "text/plain": [
              "  0%|          | 0/9912422 [00:00<?, ?it/s]"
            ],
            "application/vnd.jupyter.widget-view+json": {
              "version_major": 2,
              "version_minor": 0,
              "model_id": "73564c4af0f0415dbeed3f7566389b16"
            }
          },
          "metadata": {}
        },
        {
          "output_type": "stream",
          "name": "stdout",
          "text": [
            "Extracting ./data/MNIST/raw/train-images-idx3-ubyte.gz to ./data/MNIST/raw\n",
            "\n",
            "Downloading http://yann.lecun.com/exdb/mnist/train-labels-idx1-ubyte.gz\n",
            "Downloading http://yann.lecun.com/exdb/mnist/train-labels-idx1-ubyte.gz to ./data/MNIST/raw/train-labels-idx1-ubyte.gz\n"
          ]
        },
        {
          "output_type": "display_data",
          "data": {
            "text/plain": [
              "  0%|          | 0/28881 [00:00<?, ?it/s]"
            ],
            "application/vnd.jupyter.widget-view+json": {
              "version_major": 2,
              "version_minor": 0,
              "model_id": "1ff12bd53866417eaf44ba68313c6e5d"
            }
          },
          "metadata": {}
        },
        {
          "output_type": "stream",
          "name": "stdout",
          "text": [
            "Extracting ./data/MNIST/raw/train-labels-idx1-ubyte.gz to ./data/MNIST/raw\n",
            "\n",
            "Downloading http://yann.lecun.com/exdb/mnist/t10k-images-idx3-ubyte.gz\n",
            "Downloading http://yann.lecun.com/exdb/mnist/t10k-images-idx3-ubyte.gz to ./data/MNIST/raw/t10k-images-idx3-ubyte.gz\n"
          ]
        },
        {
          "output_type": "display_data",
          "data": {
            "text/plain": [
              "  0%|          | 0/1648877 [00:00<?, ?it/s]"
            ],
            "application/vnd.jupyter.widget-view+json": {
              "version_major": 2,
              "version_minor": 0,
              "model_id": "743880754db04f6ba7b5738ca86c1503"
            }
          },
          "metadata": {}
        },
        {
          "output_type": "stream",
          "name": "stdout",
          "text": [
            "Extracting ./data/MNIST/raw/t10k-images-idx3-ubyte.gz to ./data/MNIST/raw\n",
            "\n",
            "Downloading http://yann.lecun.com/exdb/mnist/t10k-labels-idx1-ubyte.gz\n",
            "Downloading http://yann.lecun.com/exdb/mnist/t10k-labels-idx1-ubyte.gz to ./data/MNIST/raw/t10k-labels-idx1-ubyte.gz\n"
          ]
        },
        {
          "output_type": "display_data",
          "data": {
            "text/plain": [
              "  0%|          | 0/4542 [00:00<?, ?it/s]"
            ],
            "application/vnd.jupyter.widget-view+json": {
              "version_major": 2,
              "version_minor": 0,
              "model_id": "657cb4b5e5d14dd39df52423e9343bf0"
            }
          },
          "metadata": {}
        },
        {
          "output_type": "stream",
          "name": "stdout",
          "text": [
            "Extracting ./data/MNIST/raw/t10k-labels-idx1-ubyte.gz to ./data/MNIST/raw\n",
            "\n"
          ]
        }
      ]
    },
    {
      "cell_type": "code",
      "source": [
        "#@title 8. Export data from Colored MNIST to Deephys\n",
        "\n",
        "color_data_x, color_data_y = gen_color_data(test_loader, img_size=(3, 28, 28), opt_c=1) #opt_c = 1 for original InD set of colors\n",
        "\n",
        "color_data_test = TensorDataset(torch.FloatTensor(color_data_x), torch.LongTensor(color_data_y))\n",
        "color_test_loader = torch.utils.data.DataLoader(color_data_test,\n",
        "    batch_size=args['batch_size'], shuffle=False, num_workers=2)\n",
        "\n",
        "color_images, color_gt, color_activity = extract_activity(color_test_loader, model)\n",
        "\n",
        "\n",
        "# To Deephys\n",
        "dataset_activity = dp.dataset_activity(\n",
        "    name = \"Colored_MNIST\",\n",
        "    category_names = classes,\n",
        "    images = color_images,\n",
        "    groundtruth = color_gt,\n",
        "    neural_activity = color_activity,\n",
        "    model=dp_model,\n",
        "    )\n",
        "dataset_activity.save()\n",
        "     "
      ],
      "metadata": {
        "colab": {
          "base_uri": "https://localhost:8080/"
        },
        "id": "lHvoIrzfmpkh",
        "outputId": "0f936472-711c-47be-fb4d-f9592078b36c"
      },
      "execution_count": 10,
      "outputs": [
        {
          "output_type": "stream",
          "name": "stderr",
          "text": [
            "100%|██████████| 10/10 [00:02<00:00,  4.39it/s]\n"
          ]
        },
        {
          "output_type": "stream",
          "name": "stdout",
          "text": [
            "Preparing data...\n"
          ]
        },
        {
          "output_type": "stream",
          "name": "stderr",
          "text": [
            "100%|██████████| 10000/10000 [00:01<00:00, 6698.13it/s]\n"
          ]
        },
        {
          "output_type": "stream",
          "name": "stdout",
          "text": [
            "Saving data to Colored_MNIST.test...\n",
            "done saving data to Colored_MNIST.test\n"
          ]
        }
      ]
    },
    {
      "cell_type": "code",
      "source": [
        "#@title 9. Export data from Permuted Colored MNIST to Deephys\n",
        "\n",
        "color_data_x_perm, color_data_y_perm = gen_color_data(test_loader, img_size=(3, 28, 28), opt_c=2) #opt_c = 2 for permuted colors\n",
        "\n",
        "color_data_test_perm = TensorDataset(torch.FloatTensor(color_data_x_perm), torch.LongTensor(color_data_y_perm))\n",
        "color_test_loader_perm = torch.utils.data.DataLoader(color_data_test_perm,\n",
        "    batch_size=args['batch_size'], shuffle=False, num_workers=2)\n",
        "\n",
        "color_images_perm, color_gt_perm, color_activity_perm = extract_activity(color_test_loader_perm, model)\n",
        "\n",
        "\n",
        "# To Deephys\n",
        "dataset_activity = dp.dataset_activity(\n",
        "    name = \"Permuted_colored_MNIST\",\n",
        "    category_names = classes,\n",
        "    images = color_images_perm,\n",
        "    groundtruth = color_gt_perm,\n",
        "    neural_activity = color_activity_perm,\n",
        "    model=dp_model,\n",
        "    )\n",
        "dataset_activity.save()\n",
        "     "
      ],
      "metadata": {
        "colab": {
          "base_uri": "https://localhost:8080/"
        },
        "id": "hfaWAZbNv6ho",
        "outputId": "58b6dcec-9bc0-4194-e865-f67d8f7ecbf5"
      },
      "execution_count": 11,
      "outputs": [
        {
          "output_type": "stream",
          "name": "stderr",
          "text": [
            "100%|██████████| 10/10 [00:01<00:00,  6.04it/s]\n"
          ]
        },
        {
          "output_type": "stream",
          "name": "stdout",
          "text": [
            "Preparing data...\n"
          ]
        },
        {
          "output_type": "stream",
          "name": "stderr",
          "text": [
            "100%|██████████| 10000/10000 [00:02<00:00, 4426.16it/s]\n"
          ]
        },
        {
          "output_type": "stream",
          "name": "stdout",
          "text": [
            "Saving data to Permuted_colored_MNIST.test...\n",
            "done saving data to Permuted_colored_MNIST.test\n"
          ]
        }
      ]
    },
    {
      "cell_type": "code",
      "source": [
        "#@title 10. Export data from Arbitrary Colored MNIST to Deephys\n",
        "\n",
        "color_data_x_arb, color_data_y_arb = gen_color_data(test_loader, img_size=(3, 28, 28), opt_c=3) #opt_c = 3 for arbitrary colors\n",
        "\n",
        "color_data_test_arb = TensorDataset(torch.FloatTensor(color_data_x_arb), torch.LongTensor(color_data_y_arb))\n",
        "color_test_loader_arb = torch.utils.data.DataLoader(color_data_test_arb,\n",
        "    batch_size=args['batch_size'], shuffle=False, num_workers=2)\n",
        "\n",
        "color_images_arb, color_gt_arb, color_activity_arb = extract_activity(color_test_loader_arb, model)\n",
        "\n",
        "\n",
        "# To Deephys\n",
        "dataset_activity = dp.dataset_activity(\n",
        "    name = \"Arbitrary_colored_MNIST\",\n",
        "    category_names = classes,\n",
        "    images = color_images_arb,\n",
        "    groundtruth = color_gt_arb,\n",
        "    neural_activity = color_activity_arb,\n",
        "    model=dp_model,\n",
        "    )\n",
        "dataset_activity.save()"
      ],
      "metadata": {
        "colab": {
          "base_uri": "https://localhost:8080/"
        },
        "id": "s-FjJgT-wTC3",
        "outputId": "c8af7bfc-d776-44ed-d1e5-4bab87f3b7a0"
      },
      "execution_count": 12,
      "outputs": [
        {
          "output_type": "stream",
          "name": "stderr",
          "text": [
            "100%|██████████| 10/10 [00:01<00:00,  5.85it/s]\n"
          ]
        },
        {
          "output_type": "stream",
          "name": "stdout",
          "text": [
            "Preparing data...\n"
          ]
        },
        {
          "output_type": "stream",
          "name": "stderr",
          "text": [
            "100%|██████████| 10000/10000 [00:01<00:00, 6216.90it/s]\n"
          ]
        },
        {
          "output_type": "stream",
          "name": "stdout",
          "text": [
            "Saving data to Arbitrary_colored_MNIST.test...\n",
            "done saving data to Arbitrary_colored_MNIST.test\n"
          ]
        }
      ]
    },
    {
      "cell_type": "code",
      "source": [
        "#@title 11. Export data from Drifted Colored MNIST to Deephys\n",
        "\n",
        "color_data_x_drift, color_data_y_drift = gen_color_data(test_loader, img_size=(3, 28, 28), opt_c=4) #opt_c = 4 for drifted colors\n",
        "\n",
        "color_data_test_drift = TensorDataset(torch.FloatTensor(color_data_x_drift), torch.LongTensor(color_data_y_drift))\n",
        "color_test_loader_drift = torch.utils.data.DataLoader(color_data_test_drift,\n",
        "    batch_size=args['batch_size'], shuffle=False, num_workers=2)\n",
        "\n",
        "color_images_drift, color_gt_drift, color_activity_drift = extract_activity(color_test_loader_drift, model)\n",
        "\n",
        "\n",
        "# To Deephys\n",
        "dataset_activity = dp.dataset_activity(\n",
        "    name = \"Drifted_colored_MNIST\",\n",
        "    category_names = classes,\n",
        "    images = color_images_drift,\n",
        "    groundtruth = color_gt_drift,\n",
        "    neural_activity = color_activity_drift,\n",
        "    model=dp_model,\n",
        "    )\n",
        "dataset_activity.save()"
      ],
      "metadata": {
        "colab": {
          "base_uri": "https://localhost:8080/"
        },
        "id": "X15B2U6YxKsV",
        "outputId": "ba2bb82b-711a-4751-b647-3fd96a9c4011"
      },
      "execution_count": 13,
      "outputs": [
        {
          "output_type": "stream",
          "name": "stderr",
          "text": [
            "100%|██████████| 10/10 [00:01<00:00,  5.70it/s]\n"
          ]
        },
        {
          "output_type": "stream",
          "name": "stdout",
          "text": [
            "Preparing data...\n"
          ]
        },
        {
          "output_type": "stream",
          "name": "stderr",
          "text": [
            "100%|██████████| 10000/10000 [00:02<00:00, 4354.41it/s]\n"
          ]
        },
        {
          "output_type": "stream",
          "name": "stdout",
          "text": [
            "Saving data to Drifted_colored_MNIST.test...\n",
            "done saving data to Drifted_colored_MNIST.test\n"
          ]
        }
      ]
    },
    {
      "cell_type": "markdown",
      "source": [
        "#Novelty and Spurious Scores"
      ],
      "metadata": {
        "id": "6nsY4nH4yfT9"
      }
    },
    {
      "cell_type": "code",
      "source": [
        "#@title Normalize and get average firing rates per category\n",
        "\n",
        "num_neurons = model.fc1.out_features\n",
        "num_classes = len(classes)\n",
        "\n",
        "norm = np.max(color_activity[\"linear1\"], axis=0)\n",
        "color_activity[\"linear1\"] /= norm\n",
        "color_activity_perm[\"linear1\"] /= norm\n",
        "color_activity_arb[\"linear1\"] /= norm\n",
        "color_activity_drift[\"linear1\"] /= norm\n",
        "\n",
        "\n",
        "# average scores for every concept across all images\n",
        "Y = np.array([np.mean(color_activity[\"linear1\"][np.where(color_gt == c)[0], :], axis=0) \n",
        "          for c in range(num_classes)]) #Colored MNIST\n",
        "\n",
        "Y_perm = np.array([np.mean(color_activity_perm[\"linear1\"][np.where(color_gt_perm == c)[0], :], axis=0) \n",
        "          for c in range(num_classes)]) #Permuted Colored MNIST\n",
        "\n",
        "Y_arb = np.array([np.mean(color_activity_arb[\"linear1\"][np.where(color_gt_arb == c)[0], :], axis=0) \n",
        "          for c in range(num_classes)]) #Arbitrary Colored MNIST\n",
        "\n",
        "Y_drift = np.array([np.mean(color_activity_drift[\"linear1\"][np.where(color_gt_drift == c)[0], :], axis=0) \n",
        "          for c in range(num_classes)]) #Drifted Colored MNIST"
      ],
      "metadata": {
        "id": "-fQJ-2hpynkn"
      },
      "execution_count": 14,
      "outputs": []
    },
    {
      "cell_type": "code",
      "source": [
        "#@title Calculate Spurious and Novelty scores\n",
        "\n",
        "from scipy.stats.mstats import spearmanr\n",
        "import pandas as pd\n",
        "\n",
        "def Spurious_Score(avg_acts_1, avg_acts_2):\n",
        "    #Spearman's rank correlation calculation\n",
        "    spearman_corr = [1-abs(spearmanr(avg_acts_1[:,i], avg_acts_2[:,i])[0])\n",
        "          for i in range(len(avg_acts_1[0]))]\n",
        "    \n",
        "    return spearman_corr\n",
        "\n",
        "def Novelty_Score(avg_acts_1, avg_acts_2):\n",
        "  max_acts = np.max(avg_acts_1, axis=0)\n",
        "  max_acts_2 = np.max(avg_acts_2, axis=0)\n",
        "\n",
        "  diff_acts = list(max_acts - max_acts_2)\n",
        "  return diff_acts\n",
        "\n",
        "\n",
        "# Calculate and store in dataframe\n",
        "spurious_perm = Spurious_Score(Y, Y_perm)\n",
        "spurious_arb = Spurious_Score(Y, Y_arb)\n",
        "spurious_drift = Spurious_Score(Y, Y_drift)\n",
        "\n",
        "novelty_perm = Novelty_Score(Y, Y_perm)\n",
        "novelty_arb = Novelty_Score(Y, Y_arb)\n",
        "novelty_drift = Novelty_Score(Y, Y_drift)\n",
        "\n",
        "df = pd.DataFrame({\n",
        "  'Spurious_perm': spurious_perm,\n",
        "  'Spurious_arb': spurious_arb,\n",
        "  'Spurious_drift': spurious_drift,\n",
        "  'Novelty_perm': novelty_perm,\n",
        "  'Novelty_arb': novelty_arb,\n",
        "  'Novelty_drift': novelty_drift\n",
        "})"
      ],
      "metadata": {
        "id": "xRzl9GOVzsam"
      },
      "execution_count": 15,
      "outputs": []
    },
    {
      "cell_type": "code",
      "source": [
        "#@title Plot scores\n",
        "\n",
        "import matplotlib.pyplot as plt\n",
        "import seaborn as sns\n",
        "\n",
        "sns.set(style=\"ticks\")\n",
        "sns.set_context(\"poster\")\n",
        "\n",
        "\n",
        "fig, axes = plt.subplots(1, 4, figsize = (20, 10))\n",
        "fig.suptitle('Category wise average concept activations')\n",
        "fig = sns.heatmap(Y, ax=axes[0], vmin=0, vmax=1)\n",
        "fig = sns.heatmap(Y_perm, ax=axes[1], vmin=0, vmax=1)\n",
        "fig = sns.heatmap(Y_arb, ax=axes[2], vmin=0, vmax=1)\n",
        "fig = sns.heatmap(Y_drift, ax=axes[3], vmin=0, vmax=1)\n",
        "\n",
        "axes[0].set_title('Colored')\n",
        "axes[1].set_title('Permuted')\n",
        "axes[2].set_title('Arbitrary')\n",
        "axes[3].set_title('Drifted')\n",
        "\n",
        "\n",
        "fig, axes = plt.subplots(1, 1, figsize = (5, 5))\n",
        "fig = sns.kdeplot(df['Spurious_perm'], shade=True, color=\"r\")\n",
        "fig = sns.kdeplot(df['Spurious_arb'], shade=True, color=\"b\")\n",
        "fig = sns.kdeplot(df['Spurious_drift'], shade=True, color=\"g\")\n",
        "plt.xlim(0, 1)\n",
        "axes.set_xlabel('Spurious score')\n",
        "\n",
        "plt.show()\n",
        "g = fig.figure\n",
        "g.savefig(\"MNIST_spurious.pdf\", bbox_inches='tight')\n",
        "\n",
        "fig, axes = plt.subplots(1, 1, figsize = (5, 5))\n",
        "fig = sns.kdeplot(df['Novelty_perm'], shade=True, color=\"r\")\n",
        "fig = sns.kdeplot(df['Novelty_arb'], shade=True, color=\"b\")\n",
        "fig = sns.kdeplot(df['Novelty_drift'], shade=True, color=\"g\")\n",
        "plt.xlim(0, 1)\n",
        "plt.gca().legend(('Permuted','Arbitrary', 'Drifted'), loc =\"upper right\")\n",
        "axes.set_xlabel('Novelty score')\n",
        "\n",
        "plt.show()\n",
        "g = fig.figure\n",
        "g.savefig(\"MNIST_novelty.pdf\", bbox_inches='tight')"
      ],
      "metadata": {
        "colab": {
          "base_uri": "https://localhost:8080/",
          "height": 1000
        },
        "id": "tqbp6A863OQT",
        "outputId": "51475a19-d788-4ee6-9e15-b2a54f0afb24"
      },
      "execution_count": 16,
      "outputs": [
        {
          "output_type": "display_data",
          "data": {
            "text/plain": [
              "<Figure size 1440x720 with 8 Axes>"
            ],
            "image/png": "[encoded data removed]"
          },
          "metadata": {}
        },
        {
          "output_type": "display_data",
          "data": {
            "text/plain": [
              "<Figure size 360x360 with 1 Axes>"
            ],
            "image/png": "[encoded data removed]"
          },
          "metadata": {}
        },
        {
          "output_type": "display_data",
          "data": {
            "text/plain": [
              "<Figure size 360x360 with 1 Axes>"
            ],
            "image/png": "[encoded data removed]"
          },
          "metadata": {}
        }
      ]
    },
    {
      "cell_type": "code",
      "source": [],
      "metadata": {
        "id": "sb5JC3keisgR"
      },
      "execution_count": null,
      "outputs": []
    }
  ]
}